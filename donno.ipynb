{
 "cells": [
  {
   "cell_type": "code",
   "execution_count": 17,
   "metadata": {},
   "outputs": [],
   "source": [
    "from tkinter import *\n",
    "from tkinter import filedialog\n",
    "import os\n",
    "import tkinter as tk\n",
    "import cv2\n",
    "from PIL import Image, ImageTk\n",
    "import numpy as np\n",
    "from matplotlib import pyplot as plt\n",
    "import math"
   ]
  },
  {
   "cell_type": "code",
   "execution_count": 35,
   "metadata": {},
   "outputs": [
    {
     "data": {
      "text/plain": [
       "''"
      ]
     },
     "execution_count": 35,
     "metadata": {},
     "output_type": "execute_result"
    }
   ],
   "source": [
    "root = Tk()\n",
    "root.geometry('800x800')"
   ]
  },
  {
   "cell_type": "code",
   "execution_count": null,
   "metadata": {},
   "outputs": [],
   "source": []
  },
  {
   "cell_type": "code",
   "execution_count": 36,
   "metadata": {},
   "outputs": [],
   "source": [
    "def showimage():\n",
    "    fln = filedialog.askopenfilename(initialdir=os.getcwd(), title=\"Select Image file\", filetypes=[(\"ALL FILES\", \"*.*\")])\n",
    "    print(fln)\n",
    "    global im\n",
    "    if fln:\n",
    "        image = cv2.imread(fln)\n",
    "        image = cv2.resize(image , (450,350))\n",
    "        im = image.copy()\n",
    "        \n",
    "    cropping = False\n",
    "    x_start, y_start, x_end, y_end = 0, 0, 0, 0\n",
    "    global mu_b_low\n",
    "    low_pixel_intensity = 0.0\n",
    "    mu_b_low = 0.0\n",
    "\n",
    "# image = cv2.imread('C:/Users/vbj/ffyp/Final-Year-Project/X-Rays/70_40.bmp')\n",
    "    oriImage = image.copy()\n",
    "\n",
    "\n",
    "    def mouse_crop(event, x, y, flags, param):\n",
    "    # grab references to the global variables\n",
    "        global x_start, y_start, x_end, y_end, cropping, low_pixel_intensity\n",
    "\n",
    "            # if the left mouse button was DOWN, start RECORDING\n",
    "            # (x, y) coordinates and indicate that cropping is being\n",
    "        if event == cv2.EVENT_LBUTTONDOWN:\n",
    "            x_start, y_start, x_end, y_end = x, y, x, y\n",
    "            cropping = True\n",
    "\n",
    "            # Mouse is Moving\n",
    "        elif event == cv2.EVENT_MOUSEMOVE:\n",
    "            if cropping == True:\n",
    "                x_end, y_end = x, y\n",
    "\n",
    "            # if the left mouse button was released\n",
    "        elif event == cv2.EVENT_LBUTTONUP:\n",
    "                # record the ending (x, y) coordinates\n",
    "            x_end, y_end = x, y\n",
    "            cropping = False # cropping is finished\n",
    "\n",
    "            refPoint = [(x_start, y_start), (x_end, y_end)]\n",
    "            print(refPoint)\n",
    "            if len(refPoint) == 2: #when two points were found\n",
    "                roi = oriImage[refPoint[0][1]:refPoint[1][1], refPoint[0][0]:refPoint[1][0]]\n",
    "                cv2.imshow(\"Cropped\", roi) \n",
    "                cv2.imwrite(\"C:/Users/vbj/f1/Final-Year-Project/X-Rays/r.png\", roi)\n",
    "#                 crop_img = cv2.imread('X-Rays/r.png')\n",
    "                \n",
    "#                 norm_img = np.zeros((800,800))\n",
    "#                 final_image = cv2.normalize(crop_img,  norm_img, 0, 255, cv2.NORM_MINMAX)\n",
    "#                 low_image = Image.fromarray(final_image)\n",
    "#                 pixel_intensity = np.mean(low_image)\n",
    "#                 low_pixel_intensity = pixel_intensity\n",
    "#                 plt.imshow(low_image)\n",
    "#                 print(pixel_intensity)\n",
    "\n",
    "                norm_img = np.zeros((800,800))\n",
    "                final_image = cv2.normalize(im,  norm_img, 0, 255, cv2.NORM_MINMAX)\n",
    "                low_image = Image.fromarray(final_image)\n",
    "                low_cropped_img = low_image.crop((x_start,y_start,x_end,y_end))\n",
    "                pixel_intensity = np.mean(low_cropped_img)\n",
    "#     plt.imshow(low_cropped_img)\n",
    "#     print(low_avg_pixel_intensity)\n",
    "                low_pixel_intensity = pixel_intensity\n",
    "                print(low_pixel_intensity)\n",
    "                img = Image.fromarray(roi)\n",
    "                img = PhotoImage(file=\"C:/Users/vbj/f1/Final-Year-Project/X-Rays/r.png\")\n",
    "                \n",
    "        \n",
    "                lbl1 = Label(root,image = img).place(x = 100, y = 50)\n",
    "                lbl1.pack()\n",
    "\n",
    "    cv2.namedWindow(\"image\")\n",
    "    cv2.setMouseCallback(\"image\", mouse_crop)\n",
    "    i = image.copy()\n",
    "\n",
    "    if not cropping:\n",
    "        cv2.imshow(\"image\", image)\n",
    "        \n",
    "        \n",
    "    \n",
    "\n",
    "    elif cropping:\n",
    "        cv2.rectangle(i, (x_start, y_start), (x_end, y_end), (255, 0, 0), 2)\n",
    "        cv2.imshow(\"image\", i)\n",
    "        \n",
    "    \n",
    "    if \"70\" in fln:\n",
    "        mu_b_low = 0.255\n",
    "    elif \"84\" in fln and \"60\" in fln:\n",
    "        mu_b_low = 0.214\n",
    "            \n",
    "    print(mu_b_low)\n",
    "\n",
    "   \n",
    "            "
   ]
  },
  {
   "cell_type": "code",
   "execution_count": 37,
   "metadata": {},
   "outputs": [],
   "source": [
    "def highimage():\n",
    "    fln = filedialog.askopenfilename(initialdir=os.getcwd(), title=\"Select Image file\", filetypes=[(\"ALL FILES\", \"*.*\")])\n",
    "    print(fln)\n",
    "    global im_high\n",
    "    if fln:\n",
    "        image = cv2.imread(fln)\n",
    "        image = cv2.resize(image , (450,350))\n",
    "        im_high = image.copy()\n",
    "        \n",
    "    highcropping = False\n",
    "    left, top, right, bottom = 0, 0, 0, 0\n",
    "    global mu_b_high\n",
    "#     low_pixel_intensity = 0.0\n",
    "    mu_b_high = 0.0\n",
    "\n",
    "# image = cv2.imread('C:/Users/vbj/ffyp/Final-Year-Project/X-Rays/70_40.bmp')\n",
    "    oriImage = image.copy()\n",
    "\n",
    "\n",
    "    def mouse_crop(event, x, y, flags, param):\n",
    "    # grab references to the global variables\n",
    "        global left, right, top, bottom, highcropping, high_pixel_intensity\n",
    "\n",
    "            # if the left mouse button was DOWN, start RECORDING\n",
    "            # (x, y) coordinates and indicate that cropping is being\n",
    "        if event == cv2.EVENT_LBUTTONDOWN:\n",
    "            left, top, right, bottom = x, y, x, y\n",
    "            highcropping = True\n",
    "\n",
    "            # Mouse is Moving\n",
    "        elif event == cv2.EVENT_MOUSEMOVE:\n",
    "            if highcropping == True:\n",
    "                right, bottom = x, y\n",
    "\n",
    "            # if the left mouse button was released\n",
    "        elif event == cv2.EVENT_LBUTTONUP:\n",
    "                # record the ending (x, y) coordinates\n",
    "            right, bottom = x, y\n",
    "            highcropping = False # cropping is finished\n",
    "\n",
    "            refPoint = [(left, top), (right, bottom)]\n",
    "            print(refPoint)\n",
    "            if len(refPoint) == 2: #when two points were found\n",
    "                roi = oriImage[refPoint[0][1]:refPoint[1][1], refPoint[0][0]:refPoint[1][0]]\n",
    "                cv2.imshow(\"Cropped\", roi) \n",
    "                cv2.imwrite(\"C:/Users/vbj/f1/Final-Year-Project/X-Rays/rhigh.png\", roi)\n",
    "#                 crop_img = cv2.imread('X-Rays/r.png')\n",
    "                \n",
    "#                 norm_img = np.zeros((800,800))\n",
    "#                 final_image = cv2.normalize(crop_img,  norm_img, 0, 255, cv2.NORM_MINMAX)\n",
    "#                 low_image = Image.fromarray(final_image)\n",
    "#                 pixel_intensity = np.mean(low_image)\n",
    "#                 low_pixel_intensity = pixel_intensity\n",
    "#                 plt.imshow(low_image)\n",
    "#                 print(pixel_intensity)\n",
    "\n",
    "                norm_img = np.zeros((800,800))\n",
    "                final_image = cv2.normalize(im_high,  norm_img, 0, 255, cv2.NORM_MINMAX)\n",
    "                low_image = Image.fromarray(final_image)\n",
    "                low_cropped_img = low_image.crop((left,top,right,bottom))\n",
    "                pixel_intensity = np.mean(low_cropped_img)\n",
    "#     plt.imshow(low_cropped_img)\n",
    "#     print(low_avg_pixel_intensity)\n",
    "                high_pixel_intensity = pixel_intensity\n",
    "                print(low_pixel_intensity)\n",
    "                img = Image.fromarray(roi)\n",
    "                img = PhotoImage(file=\"C:/Users/vbj/f1/Final-Year-Project/X-Rays/rhigh.png\")\n",
    "                \n",
    "        \n",
    "                lbl2 = Label(root,image = img).place(x = 100, y = 50)\n",
    "                lbl2.pack()\n",
    "\n",
    "    cv2.namedWindow(\"image\")\n",
    "    cv2.setMouseCallback(\"image\", mouse_crop)\n",
    "    i = image.copy()\n",
    "\n",
    "    if not highcropping:\n",
    "        cv2.imshow(\"image\", image)\n",
    "        \n",
    "        \n",
    "    \n",
    "\n",
    "    elif highcropping:\n",
    "        cv2.rectangle(i, (left, top), (right, bottom), (255, 0, 0), 2)\n",
    "        cv2.imshow(\"image\", i)\n",
    "        \n",
    "    if \"111\" in fln and \"120\" in fln:\n",
    "        mu_b_high = 0.172\n",
    "    elif \"98\" in fln and \"100\" in fln:\n",
    "        mu_b_high = 0.189\n",
    "    elif \"92\" in fln:\n",
    "        mu_b_high = 0.199\n",
    "    print(mu_b_high)\n",
    "\n",
    "   \n",
    "            "
   ]
  },
  {
   "cell_type": "code",
   "execution_count": 38,
   "metadata": {},
   "outputs": [],
   "source": [
    "def lsoftimage():\n",
    "    fln = filedialog.askopenfilename(initialdir=os.getcwd(), title=\"Select Image file\", filetypes=[(\"ALL FILES\", \"*.*\")])\n",
    "    print(fln)\n",
    "    global im_soft\n",
    "    if fln:\n",
    "        image = cv2.imread(fln)\n",
    "        image = cv2.resize(image , (450,350))\n",
    "        im_soft = image.copy()\n",
    "        \n",
    "    softcropping = False\n",
    "    lefts, tops, rights, bottoms = 0, 0, 0, 0\n",
    "#     global mu_b_low\n",
    "#     low_pixel_intensity = 0.0\n",
    "#     mu_b_high = 0.0\n",
    "\n",
    "# image = cv2.imread('C:/Users/vbj/ffyp/Final-Year-Project/X-Rays/70_40.bmp')\n",
    "    oriImage = image.copy()\n",
    "\n",
    "\n",
    "    def mouse_crop(event, x, y, flags, param):\n",
    "    # grab references to the global variables\n",
    "        global lefts, rights, tops, bottoms, softcropping, k_low_pixel_intensity\n",
    "\n",
    "            # if the left mouse button was DOWN, start RECORDING\n",
    "            # (x, y) coordinates and indicate that cropping is being\n",
    "        if event == cv2.EVENT_LBUTTONDOWN:\n",
    "            lefts, tops, rights, bottoms = x, y, x, y\n",
    "            softcropping = True\n",
    "\n",
    "            # Mouse is Moving\n",
    "        elif event == cv2.EVENT_MOUSEMOVE:\n",
    "            if softcropping == True:\n",
    "                rights, bottoms = x, y\n",
    "\n",
    "            # if the left mouse button was released\n",
    "        elif event == cv2.EVENT_LBUTTONUP:\n",
    "                # record the ending (x, y) coordinates\n",
    "            rights, bottoms = x, y\n",
    "            softcropping = False # cropping is finished\n",
    "\n",
    "            refPoint = [(lefts, tops), (rights, bottoms)]\n",
    "            print(refPoint)\n",
    "            if len(refPoint) == 2: #when two points were found\n",
    "                roi = oriImage[refPoint[0][1]:refPoint[1][1], refPoint[0][0]:refPoint[1][0]]\n",
    "                cv2.imshow(\"Cropped\", roi) \n",
    "                cv2.imwrite(\"C:/Users/vbj/f1/Final-Year-Project/X-Rays/softl.png\", roi)\n",
    "#                 crop_img = cv2.imread('X-Rays/r.png')\n",
    "                \n",
    "#                 norm_img = np.zeros((800,800))\n",
    "#                 final_image = cv2.normalize(crop_img,  norm_img, 0, 255, cv2.NORM_MINMAX)\n",
    "#                 low_image = Image.fromarray(final_image)\n",
    "#                 pixel_intensity = np.mean(low_image)\n",
    "#                 low_pixel_intensity = pixel_intensity\n",
    "#                 plt.imshow(low_image)\n",
    "#                 print(pixel_intensity)\n",
    "\n",
    "                norm_img = np.zeros((800,800))\n",
    "                final_image = cv2.normalize(im_soft,  norm_img, 0, 255, cv2.NORM_MINMAX)\n",
    "                low_image = Image.fromarray(final_image)\n",
    "                low_cropped_img = low_image.crop((lefts,tops,rights,bottoms))\n",
    "                pixel_intensity = np.mean(low_cropped_img)\n",
    "#     plt.imshow(low_cropped_img)\n",
    "#     print(low_avg_pixel_intensity)\n",
    "                k_low_pixel_intensity = pixel_intensity\n",
    "                print(k_low_pixel_intensity)\n",
    "                img = Image.fromarray(roi)\n",
    "                img = PhotoImage(file=\"C:/Users/vbj/f1/Final-Year-Project/X-Rays/softl.png\")\n",
    "                \n",
    "        \n",
    "                lbl2 = Label(root,image = img).place(x = 100, y = 50)\n",
    "                lbl2.pack()\n",
    "\n",
    "    cv2.namedWindow(\"image\")\n",
    "    cv2.setMouseCallback(\"image\", mouse_crop)\n",
    "    i = image.copy()\n",
    "\n",
    "    if not softcropping:\n",
    "        cv2.imshow(\"image\", image)\n",
    "        \n",
    "        \n",
    "    \n",
    "\n",
    "    elif softcropping:\n",
    "        cv2.rectangle(i, (lefts, tops), (rights, bottoms), (255, 0, 0), 2)\n",
    "        cv2.imshow(\"image\", i)\n",
    "        \n",
    "#     if \"111\" in fln and \"120\" in fln:\n",
    "#         mu_b_high = 0.172\n",
    "#     elif \"98\" in fln and \"100\" in fln:\n",
    "#         mu_b_high = 0.189\n",
    "#     elif \"92\" in fln and \"80\" in fln:\n",
    "#         mu_b_high = 0.199\n",
    "#     print(mu_b_high)\n",
    "\n",
    "   \n",
    "            "
   ]
  },
  {
   "cell_type": "code",
   "execution_count": 39,
   "metadata": {},
   "outputs": [],
   "source": [
    "def hsoftimage():\n",
    "    fln = filedialog.askopenfilename(initialdir=os.getcwd(), title=\"Select Image file\", filetypes=[(\"ALL FILES\", \"*.*\")])\n",
    "    print(fln)\n",
    "    global im_soft_high\n",
    "    if fln:\n",
    "        image = cv2.imread(fln)\n",
    "        image = cv2.resize(image , (450,350))\n",
    "        im_soft_high = image.copy()\n",
    "        \n",
    "    softhcropping = False\n",
    "    lefth, toph, righth, bottomh = 0, 0, 0, 0\n",
    "#     global mu_b_low\n",
    "#     low_pixel_intensity = 0.0\n",
    "#     mu_b_high = 0.0\n",
    "\n",
    "# image = cv2.imread('C:/Users/vbj/ffyp/Final-Year-Project/X-Rays/70_40.bmp')\n",
    "    oriImage = image.copy()\n",
    "\n",
    "\n",
    "    def mouse_crop(event, x, y, flags, param):\n",
    "    # grab references to the global variables\n",
    "        global lefth, righth, toph, bottomh, softhcropping, k_high_pixel_intensity\n",
    "\n",
    "            # if the left mouse button was DOWN, start RECORDING\n",
    "            # (x, y) coordinates and indicate that cropping is being\n",
    "        if event == cv2.EVENT_LBUTTONDOWN:\n",
    "            lefth, toph, righth, bottomh = x, y, x, y\n",
    "            softhcropping = True\n",
    "\n",
    "            # Mouse is Moving\n",
    "        elif event == cv2.EVENT_MOUSEMOVE:\n",
    "            if softhcropping == True:\n",
    "                righth, bottomh = x, y\n",
    "\n",
    "            # if the left mouse button was released\n",
    "        elif event == cv2.EVENT_LBUTTONUP:\n",
    "                # record the ending (x, y) coordinates\n",
    "            righth, bottomh = x, y\n",
    "            softhcropping = False # cropping is finished\n",
    "\n",
    "            refPoint = [(lefth, toph), (righth, bottomh)]\n",
    "            print(refPoint)\n",
    "            if len(refPoint) == 2: #when two points were found\n",
    "                roi = oriImage[refPoint[0][1]:refPoint[1][1], refPoint[0][0]:refPoint[1][0]]\n",
    "                cv2.imshow(\"Cropped\", roi) \n",
    "                cv2.imwrite(\"C:/Users/vbj/f1/Final-Year-Project/X-Rays/softh.png\", roi)\n",
    "#                 crop_img = cv2.imread('X-Rays/r.png')\n",
    "                \n",
    "#                 norm_img = np.zeros((800,800))\n",
    "#                 final_image = cv2.normalize(crop_img,  norm_img, 0, 255, cv2.NORM_MINMAX)\n",
    "#                 low_image = Image.fromarray(final_image)\n",
    "#                 pixel_intensity = np.mean(low_image)\n",
    "#                 low_pixel_intensity = pixel_intensity\n",
    "#                 plt.imshow(low_image)\n",
    "#                 print(pixel_intensity)\n",
    "\n",
    "                norm_img = np.zeros((800,800))\n",
    "                final_image = cv2.normalize(im_soft_high,  norm_img, 0, 255, cv2.NORM_MINMAX)\n",
    "                low_image = Image.fromarray(final_image)\n",
    "                low_cropped_img = low_image.crop((lefth,toph,righth,bottomh))\n",
    "                pixel_intensity = np.mean(low_cropped_img)\n",
    "#     plt.imshow(low_cropped_img)\n",
    "#     print(low_avg_pixel_intensity)\n",
    "                k_high_pixel_intensity = pixel_intensity\n",
    "                print(k_high_pixel_intensity)\n",
    "                img = Image.fromarray(roi)\n",
    "                img = PhotoImage(file=\"C:/Users/vbj/f1/Final-Year-Project/X-Rays/softh.png\")\n",
    "                \n",
    "        \n",
    "                lbl2 = Label(root,image = img).place(x = 100, y = 50)\n",
    "                lbl2.pack()\n",
    "\n",
    "    cv2.namedWindow(\"image\")\n",
    "    cv2.setMouseCallback(\"image\", mouse_crop)\n",
    "    i = image.copy()\n",
    "\n",
    "    if not softhcropping:\n",
    "        cv2.imshow(\"image\", image)\n",
    "        \n",
    "        \n",
    "    \n",
    "\n",
    "    elif softhcropping:\n",
    "        cv2.rectangle(i, (lefth, toph), (righth, bottomh), (255, 0, 0), 2)\n",
    "        cv2.imshow(\"image\", i)\n",
    "        \n",
    "#     if \"111\" in fln and \"120\" in fln:\n",
    "#         mu_b_high = 0.172\n",
    "#     elif \"98\" in fln and \"100\" in fln:\n",
    "#         mu_b_high = 0.189\n",
    "#     elif \"92\" in fln and \"80\" in fln:\n",
    "#         mu_b_high = 0.199\n",
    "#     print(mu_b_high)\n",
    "\n",
    "   \n",
    "            "
   ]
  },
  {
   "cell_type": "code",
   "execution_count": 40,
   "metadata": {},
   "outputs": [],
   "source": [
    "def bmd():\n",
    "    K = math.log(k_low_pixel_intensity)/math.log(k_high_pixel_intensity)\n",
    "    Numerator = (math.log(low_pixel_intensity)) - (K * math.log(high_pixel_intensity)) \n",
    "    Denominator = mu_b_low - (K * mu_b_high)\n",
    "    M_b = Numerator/Denominator\n",
    "    \n",
    "    lbl = Label(root,text=str(M_b)).place(x = 150, y = 50)\n",
    "    lbl.pack()"
   ]
  },
  {
   "cell_type": "code",
   "execution_count": 41,
   "metadata": {},
   "outputs": [
    {
     "name": "stdout",
     "output_type": "stream",
     "text": [
      "C:/Users/vbj/f1/Final-Year-Project/X-Rays/70KV.jpg\n",
      "0.255\n",
      "[(212, 78), (251, 94)]\n",
      "154.22916666666666\n"
     ]
    },
    {
     "ename": "AttributeError",
     "evalue": "'NoneType' object has no attribute 'pack'",
     "output_type": "error",
     "traceback": [
      "\u001b[1;31m---------------------------------------------------------------------------\u001b[0m",
      "\u001b[1;31mAttributeError\u001b[0m                            Traceback (most recent call last)",
      "\u001b[1;32m<ipython-input-36-12ce01e34eec>\u001b[0m in \u001b[0;36mmouse_crop\u001b[1;34m(event, x, y, flags, param)\u001b[0m\n\u001b[0;32m     69\u001b[0m \u001b[1;33m\u001b[0m\u001b[0m\n\u001b[0;32m     70\u001b[0m                 \u001b[0mlbl1\u001b[0m \u001b[1;33m=\u001b[0m \u001b[0mLabel\u001b[0m\u001b[1;33m(\u001b[0m\u001b[0mroot\u001b[0m\u001b[1;33m,\u001b[0m\u001b[0mimage\u001b[0m \u001b[1;33m=\u001b[0m \u001b[0mimg\u001b[0m\u001b[1;33m)\u001b[0m\u001b[1;33m.\u001b[0m\u001b[0mplace\u001b[0m\u001b[1;33m(\u001b[0m\u001b[0mx\u001b[0m \u001b[1;33m=\u001b[0m \u001b[1;36m100\u001b[0m\u001b[1;33m,\u001b[0m \u001b[0my\u001b[0m \u001b[1;33m=\u001b[0m \u001b[1;36m50\u001b[0m\u001b[1;33m)\u001b[0m\u001b[1;33m\u001b[0m\u001b[1;33m\u001b[0m\u001b[0m\n\u001b[1;32m---> 71\u001b[1;33m                 \u001b[0mlbl1\u001b[0m\u001b[1;33m.\u001b[0m\u001b[0mpack\u001b[0m\u001b[1;33m(\u001b[0m\u001b[1;33m)\u001b[0m\u001b[1;33m\u001b[0m\u001b[1;33m\u001b[0m\u001b[0m\n\u001b[0m\u001b[0;32m     72\u001b[0m \u001b[1;33m\u001b[0m\u001b[0m\n\u001b[0;32m     73\u001b[0m     \u001b[0mcv2\u001b[0m\u001b[1;33m.\u001b[0m\u001b[0mnamedWindow\u001b[0m\u001b[1;33m(\u001b[0m\u001b[1;34m\"image\"\u001b[0m\u001b[1;33m)\u001b[0m\u001b[1;33m\u001b[0m\u001b[1;33m\u001b[0m\u001b[0m\n",
      "\u001b[1;31mAttributeError\u001b[0m: 'NoneType' object has no attribute 'pack'"
     ]
    },
    {
     "name": "stdout",
     "output_type": "stream",
     "text": [
      "C:/Users/vbj/f1/Final-Year-Project/X-Rays/92KV.jpg\n",
      "0.199\n",
      "[(213, 109), (251, 125)]\n",
      "154.22916666666666\n"
     ]
    },
    {
     "ename": "AttributeError",
     "evalue": "'NoneType' object has no attribute 'pack'",
     "output_type": "error",
     "traceback": [
      "\u001b[1;31m---------------------------------------------------------------------------\u001b[0m",
      "\u001b[1;31mAttributeError\u001b[0m                            Traceback (most recent call last)",
      "\u001b[1;32m<ipython-input-37-99c0a2dac2ea>\u001b[0m in \u001b[0;36mmouse_crop\u001b[1;34m(event, x, y, flags, param)\u001b[0m\n\u001b[0;32m     69\u001b[0m \u001b[1;33m\u001b[0m\u001b[0m\n\u001b[0;32m     70\u001b[0m                 \u001b[0mlbl2\u001b[0m \u001b[1;33m=\u001b[0m \u001b[0mLabel\u001b[0m\u001b[1;33m(\u001b[0m\u001b[0mroot\u001b[0m\u001b[1;33m,\u001b[0m\u001b[0mimage\u001b[0m \u001b[1;33m=\u001b[0m \u001b[0mimg\u001b[0m\u001b[1;33m)\u001b[0m\u001b[1;33m.\u001b[0m\u001b[0mplace\u001b[0m\u001b[1;33m(\u001b[0m\u001b[0mx\u001b[0m \u001b[1;33m=\u001b[0m \u001b[1;36m100\u001b[0m\u001b[1;33m,\u001b[0m \u001b[0my\u001b[0m \u001b[1;33m=\u001b[0m \u001b[1;36m50\u001b[0m\u001b[1;33m)\u001b[0m\u001b[1;33m\u001b[0m\u001b[1;33m\u001b[0m\u001b[0m\n\u001b[1;32m---> 71\u001b[1;33m                 \u001b[0mlbl2\u001b[0m\u001b[1;33m.\u001b[0m\u001b[0mpack\u001b[0m\u001b[1;33m(\u001b[0m\u001b[1;33m)\u001b[0m\u001b[1;33m\u001b[0m\u001b[1;33m\u001b[0m\u001b[0m\n\u001b[0m\u001b[0;32m     72\u001b[0m \u001b[1;33m\u001b[0m\u001b[0m\n\u001b[0;32m     73\u001b[0m     \u001b[0mcv2\u001b[0m\u001b[1;33m.\u001b[0m\u001b[0mnamedWindow\u001b[0m\u001b[1;33m(\u001b[0m\u001b[1;34m\"image\"\u001b[0m\u001b[1;33m)\u001b[0m\u001b[1;33m\u001b[0m\u001b[1;33m\u001b[0m\u001b[0m\n",
      "\u001b[1;31mAttributeError\u001b[0m: 'NoneType' object has no attribute 'pack'"
     ]
    },
    {
     "name": "stdout",
     "output_type": "stream",
     "text": [
      "C:/Users/vbj/f1/Final-Year-Project/X-Rays/70KV.jpg\n",
      "[(297, 121), (346, 148)]\n",
      "58.38095238095238\n"
     ]
    },
    {
     "ename": "AttributeError",
     "evalue": "'NoneType' object has no attribute 'pack'",
     "output_type": "error",
     "traceback": [
      "\u001b[1;31m---------------------------------------------------------------------------\u001b[0m",
      "\u001b[1;31mAttributeError\u001b[0m                            Traceback (most recent call last)",
      "\u001b[1;32m<ipython-input-38-891b547d11a5>\u001b[0m in \u001b[0;36mmouse_crop\u001b[1;34m(event, x, y, flags, param)\u001b[0m\n\u001b[0;32m     69\u001b[0m \u001b[1;33m\u001b[0m\u001b[0m\n\u001b[0;32m     70\u001b[0m                 \u001b[0mlbl2\u001b[0m \u001b[1;33m=\u001b[0m \u001b[0mLabel\u001b[0m\u001b[1;33m(\u001b[0m\u001b[0mroot\u001b[0m\u001b[1;33m,\u001b[0m\u001b[0mimage\u001b[0m \u001b[1;33m=\u001b[0m \u001b[0mimg\u001b[0m\u001b[1;33m)\u001b[0m\u001b[1;33m.\u001b[0m\u001b[0mplace\u001b[0m\u001b[1;33m(\u001b[0m\u001b[0mx\u001b[0m \u001b[1;33m=\u001b[0m \u001b[1;36m100\u001b[0m\u001b[1;33m,\u001b[0m \u001b[0my\u001b[0m \u001b[1;33m=\u001b[0m \u001b[1;36m50\u001b[0m\u001b[1;33m)\u001b[0m\u001b[1;33m\u001b[0m\u001b[1;33m\u001b[0m\u001b[0m\n\u001b[1;32m---> 71\u001b[1;33m                 \u001b[0mlbl2\u001b[0m\u001b[1;33m.\u001b[0m\u001b[0mpack\u001b[0m\u001b[1;33m(\u001b[0m\u001b[1;33m)\u001b[0m\u001b[1;33m\u001b[0m\u001b[1;33m\u001b[0m\u001b[0m\n\u001b[0m\u001b[0;32m     72\u001b[0m \u001b[1;33m\u001b[0m\u001b[0m\n\u001b[0;32m     73\u001b[0m     \u001b[0mcv2\u001b[0m\u001b[1;33m.\u001b[0m\u001b[0mnamedWindow\u001b[0m\u001b[1;33m(\u001b[0m\u001b[1;34m\"image\"\u001b[0m\u001b[1;33m)\u001b[0m\u001b[1;33m\u001b[0m\u001b[1;33m\u001b[0m\u001b[0m\n",
      "\u001b[1;31mAttributeError\u001b[0m: 'NoneType' object has no attribute 'pack'"
     ]
    },
    {
     "name": "stdout",
     "output_type": "stream",
     "text": [
      "C:/Users/vbj/f1/Final-Year-Project/X-Rays/92KV.jpg\n",
      "[(294, 146), (341, 170)]\n",
      "74.18882978723404\n"
     ]
    },
    {
     "ename": "AttributeError",
     "evalue": "'NoneType' object has no attribute 'pack'",
     "output_type": "error",
     "traceback": [
      "\u001b[1;31m---------------------------------------------------------------------------\u001b[0m",
      "\u001b[1;31mAttributeError\u001b[0m                            Traceback (most recent call last)",
      "\u001b[1;32m<ipython-input-39-c1ee65687c9d>\u001b[0m in \u001b[0;36mmouse_crop\u001b[1;34m(event, x, y, flags, param)\u001b[0m\n\u001b[0;32m     69\u001b[0m \u001b[1;33m\u001b[0m\u001b[0m\n\u001b[0;32m     70\u001b[0m                 \u001b[0mlbl2\u001b[0m \u001b[1;33m=\u001b[0m \u001b[0mLabel\u001b[0m\u001b[1;33m(\u001b[0m\u001b[0mroot\u001b[0m\u001b[1;33m,\u001b[0m\u001b[0mimage\u001b[0m \u001b[1;33m=\u001b[0m \u001b[0mimg\u001b[0m\u001b[1;33m)\u001b[0m\u001b[1;33m.\u001b[0m\u001b[0mplace\u001b[0m\u001b[1;33m(\u001b[0m\u001b[0mx\u001b[0m \u001b[1;33m=\u001b[0m \u001b[1;36m100\u001b[0m\u001b[1;33m,\u001b[0m \u001b[0my\u001b[0m \u001b[1;33m=\u001b[0m \u001b[1;36m50\u001b[0m\u001b[1;33m)\u001b[0m\u001b[1;33m\u001b[0m\u001b[1;33m\u001b[0m\u001b[0m\n\u001b[1;32m---> 71\u001b[1;33m                 \u001b[0mlbl2\u001b[0m\u001b[1;33m.\u001b[0m\u001b[0mpack\u001b[0m\u001b[1;33m(\u001b[0m\u001b[1;33m)\u001b[0m\u001b[1;33m\u001b[0m\u001b[1;33m\u001b[0m\u001b[0m\n\u001b[0m\u001b[0;32m     72\u001b[0m \u001b[1;33m\u001b[0m\u001b[0m\n\u001b[0;32m     73\u001b[0m     \u001b[0mcv2\u001b[0m\u001b[1;33m.\u001b[0m\u001b[0mnamedWindow\u001b[0m\u001b[1;33m(\u001b[0m\u001b[1;34m\"image\"\u001b[0m\u001b[1;33m)\u001b[0m\u001b[1;33m\u001b[0m\u001b[1;33m\u001b[0m\u001b[0m\n",
      "\u001b[1;31mAttributeError\u001b[0m: 'NoneType' object has no attribute 'pack'"
     ]
    },
    {
     "name": "stderr",
     "output_type": "stream",
     "text": [
      "Exception in Tkinter callback\n",
      "Traceback (most recent call last):\n",
      "  File \"C:\\Users\\vbj\\Anaconda3\\lib\\tkinter\\__init__.py\", line 1705, in __call__\n",
      "    return self.func(*args)\n",
      "  File \"<ipython-input-40-2744c0e9807e>\", line 8, in bmd\n",
      "    lbl.pack()\n",
      "AttributeError: 'NoneType' object has no attribute 'pack'\n"
     ]
    }
   ],
   "source": [
    "frame = Frame(root)\n",
    "frame.pack(side=BOTTOM, padx=15, pady = 15)\n",
    "\n",
    "lbl = Label(root)\n",
    "lbl.pack()\n",
    "\n",
    "btn = Button(frame,text=\"Low-Image\", command=showimage)\n",
    "btn.pack(side=tk.LEFT)\n",
    "\n",
    "btn2 = Button(frame,text=\"High-Image\", command=highimage)\n",
    "btn2.pack(side=tk.LEFT,padx = 10)\n",
    "\n",
    "btn3 = Button(frame,text=\"Low-Soft-tissue\", command=lsoftimage)\n",
    "btn3.pack(side=tk.LEFT)\n",
    "\n",
    "btn4 = Button(frame,text=\"High-Soft-tissue\", command=hsoftimage)\n",
    "btn4.pack(side=tk.LEFT,padx = 10)\n",
    "\n",
    "\n",
    "btn5 = Button(frame,text=\"BMD\", command=bmd)\n",
    "btn5.pack(side=tk.LEFT,padx = 10)\n",
    "\n",
    "\n",
    "root.title(\"BMD\")\n",
    "root.geometry(\"300x350\")\n",
    "root.mainloop()"
   ]
  },
  {
   "cell_type": "code",
   "execution_count": 31,
   "metadata": {},
   "outputs": [],
   "source": []
  },
  {
   "cell_type": "code",
   "execution_count": 7,
   "metadata": {},
   "outputs": [
    {
     "name": "stdout",
     "output_type": "stream",
     "text": [
      "78.69444444444444\n"
     ]
    }
   ],
   "source": [
    "print(high_pixel_intensity)"
   ]
  },
  {
   "cell_type": "code",
   "execution_count": 81,
   "metadata": {},
   "outputs": [
    {
     "data": {
      "text/plain": [
       "<matplotlib.image.AxesImage at 0x221b548b048>"
      ]
     },
     "execution_count": 81,
     "metadata": {},
     "output_type": "execute_result"
    },
    {
     "data": {
      "image/png": "[encoded data removed]",
      "text/plain": [
       "<Figure size 432x288 with 1 Axes>"
      ]
     },
     "metadata": {
      "needs_background": "light"
     },
     "output_type": "display_data"
    }
   ],
   "source": [
    "img = cv2.imread('X-Rays/r.png')\n",
    "norm_img = np.zeros((800,800))\n",
    "final_image = cv2.normalize(img,  norm_img, 0, 255, cv2.NORM_MINMAX)\n",
    "low_image = Image.fromarray(final_image)\n",
    "plt.imshow(low_image)"
   ]
  },
  {
   "cell_type": "code",
   "execution_count": 42,
   "metadata": {},
   "outputs": [
    {
     "name": "stdout",
     "output_type": "stream",
     "text": [
      "154.22916666666666\n",
      "115.19243421052632\n",
      "74.18882978723404\n",
      "58.38095238095238\n"
     ]
    }
   ],
   "source": [
    "print(low_pixel_intensity)\n",
    "print(high_pixel_intensity)\n",
    "print(k_high_pixel_intensity)\n",
    "print(k_low_pixel_intensity)"
   ]
  },
  {
   "cell_type": "code",
   "execution_count": 27,
   "metadata": {},
   "outputs": [
    {
     "name": "stdout",
     "output_type": "stream",
     "text": [
      "208 51 245 64\n",
      "210 50 244 62\n"
     ]
    }
   ],
   "source": [
    "print(x_start,y_start,x_end,y_end)\n",
    "print(left,top,right,bottom)"
   ]
  },
  {
   "cell_type": "code",
   "execution_count": 58,
   "metadata": {},
   "outputs": [
    {
     "name": "stdout",
     "output_type": "stream",
     "text": [
      "-3.038320913762347\n"
     ]
    }
   ],
   "source": [
    "bmd()"
   ]
  },
  {
   "cell_type": "code",
   "execution_count": null,
   "metadata": {},
   "outputs": [],
   "source": []
  }
 ],
 "metadata": {
  "kernelspec": {
   "display_name": "Python 3",
   "language": "python",
   "name": "python3"
  },
  "language_info": {
   "codemirror_mode": {
    "name": "ipython",
    "version": 3
   },
   "file_extension": ".py",
   "mimetype": "text/x-python",
   "name": "python",
   "nbconvert_exporter": "python",
   "pygments_lexer": "ipython3",
   "version": "3.7.3"
  }
 },
 "nbformat": 4,
 "nbformat_minor": 2
}
