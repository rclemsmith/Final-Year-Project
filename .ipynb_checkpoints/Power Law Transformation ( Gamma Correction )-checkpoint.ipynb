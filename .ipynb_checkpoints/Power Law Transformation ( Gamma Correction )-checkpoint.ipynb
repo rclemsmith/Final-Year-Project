{
 "cells": [
  {
   "cell_type": "code",
   "execution_count": null,
   "id": "ecological-pillow",
   "metadata": {},
   "outputs": [],
   "source": [
    "import cv2\n",
    "import numpy as np"
   ]
  },
  {
   "cell_type": "code",
   "execution_count": null,
   "id": "earlier-harvest",
   "metadata": {},
   "outputs": [],
   "source": [
    "im = cv2.imread('boat.tiff')\n",
    "im = im/255.0\n",
    "im_power_law_transformation = cv2.pow(im,0.6)\n",
    "cv2.imshow('Original Image',im)\n",
    "cv2.imshow('Power Law Transformation',im_power_law_transformation)"
   ]
  }
 ],
 "metadata": {
  "kernelspec": {
   "display_name": "Python 3",
   "language": "python",
   "name": "python3"
  },
  "language_info": {
   "codemirror_mode": {
    "name": "ipython",
    "version": 3
   },
   "file_extension": ".py",
   "mimetype": "text/x-python",
   "name": "python",
   "nbconvert_exporter": "python",
   "pygments_lexer": "ipython3",
   "version": "3.9.0"
  }
 },
 "nbformat": 4,
 "nbformat_minor": 5
}
