{
 "cells": [
  {
   "cell_type": "code",
   "execution_count": 48,
   "metadata": {},
   "outputs": [],
   "source": [
    "from tkinter import *\n",
    "from tkinter import filedialog\n",
    "import os\n",
    "import tkinter as tk\n",
    "import cv2\n",
    "from PIL import Image, ImageTk\n",
    "import numpy as np\n",
    "from matplotlib import pyplot as plt\n",
    "import math\n",
    "import skimage.measure"
   ]
  },
  {
   "cell_type": "code",
   "execution_count": 49,
   "metadata": {},
   "outputs": [
    {
     "data": {
      "text/plain": [
       "''"
      ]
     },
     "execution_count": 49,
     "metadata": {},
     "output_type": "execute_result"
    }
   ],
   "source": [
    "root = Tk()\n",
    "root.geometry('500x500')\n",
    "# low_pixel_intensity = None\n",
    "# high_pixel_intensity = None \n",
    "# k_low_pixel_intensity = None\n",
    "# k_high_pixel_intensity = None\n",
    "# mu_b_low = None\n",
    "# mu_b_high = None\n",
    "# global low_pixel_intensity, high_pixel_intensity, k_low_pixel_intensity, k_high_pixel_intensity, mu_b_low,mu_b_high"
   ]
  },
  {
   "cell_type": "code",
   "execution_count": 50,
   "metadata": {},
   "outputs": [],
   "source": [
    "def bmd_computation(im):\n",
    "    low_image = Image.fromarray(im)\n",
    "    low_cropped_img = low_image.crop((x_start,y_start,x_end,y_end))\n",
    "    w1,h1 = low_cropped_img.size\n",
    "    i_d = np.sum(low_cropped_img)\n",
    "    width,i_h = low_image.size\n",
    "    w,r_h = low_cropped_img.size\n",
    "    c_f = i_h/r_h\n",
    "    bone_mineral_content = (i_d * 1.073)/c_f\n",
    "    diagonal = math.sqrt(pow(w1,2)+pow(h1,2))\n",
    "    a = 3.14*(pow(diagonal/2,2))\n",
    "    entropy = skimage.measure.shannon_entropy(low_cropped_img)\n",
    "    volume_of_roi = a*entropy\n",
    "    bone_mineral_density = bone_mineral_content/volume_of_roi\n",
    "    print(bone_mineral_density)\n",
    "    lbl = Label(root,text=str(bone_mineral_density)).place(x = 150, y = 50)\n",
    "    lbl.pack()"
   ]
  },
  {
   "cell_type": "code",
   "execution_count": 51,
   "metadata": {},
   "outputs": [],
   "source": [
    "def showimage():\n",
    "    fln = filedialog.askopenfilename(initialdir=os.getcwd(), title=\"Select Image file\", filetypes=[(\"ALL FILES\", \"*.*\")])\n",
    "    print(fln)\n",
    "    if fln:\n",
    "        image = cv2.imread(fln)\n",
    "#         norm_img = np.zeros((800,800))\n",
    "#         final_image = cv2.normalize(img,  norm_img, 0, 255, cv2.NORM_MINMAX)\n",
    "#         image = Image.fromarray(final_image)\n",
    "        \n",
    "        im = image.copy()\n",
    "        \n",
    "#         cv2.imshow(\"slot\", image)\n",
    "#         cv2.waitKey(0)\n",
    "#         cv2.destroyWindow(\"slot\")\n",
    "        cropping = False\n",
    "\n",
    "        x_start, y_start, x_end, y_end = 0, 0, 0, 0\n",
    "        global low_pixel_intensity, mu_b_low\n",
    "        low_pixel_intensity = 0.0\n",
    "        mu_b_low = 0.0\n",
    "\n",
    "# image = cv2.imread('C:/Users/vbj/ffyp/Final-Year-Project/X-Rays/70_40.bmp')\n",
    "        oriImage = image.copy()\n",
    "\n",
    "\n",
    "        def mouse_crop(event, x, y, flags, param):\n",
    "    # grab references to the global variables\n",
    "            global x_start, y_start, x_end, y_end, cropping\n",
    "\n",
    "            # if the left mouse button was DOWN, start RECORDING\n",
    "            # (x, y) coordinates and indicate that cropping is being\n",
    "            if event == cv2.EVENT_LBUTTONDOWN:\n",
    "                x_start, y_start, x_end, y_end = x, y, x, y\n",
    "                cropping = True\n",
    "\n",
    "            # Mouse is Moving\n",
    "            elif event == cv2.EVENT_MOUSEMOVE:\n",
    "                if cropping == True:\n",
    "                    x_end, y_end = x, y\n",
    "\n",
    "            # if the left mouse button was released\n",
    "            elif event == cv2.EVENT_LBUTTONUP:\n",
    "                # record the ending (x, y) coordinates\n",
    "                x_end, y_end = x, y\n",
    "                cropping = False # cropping is finished\n",
    "\n",
    "                refPoint = [(x_start, y_start), (x_end, y_end)]\n",
    "                print(refPoint)\n",
    "                if len(refPoint) == 2: #when two points were found\n",
    "                    roi = oriImage[refPoint[0][1]:refPoint[1][1], refPoint[0][0]:refPoint[1][0]]\n",
    "                    cv2.imshow(\"Cropped\", roi) \n",
    "                    cv2.imwrite(\"C:/Users/vbj/ffyp/Final-Year-Project/X-Rays/r.png\", roi)\n",
    "                    img = Image.fromarray(roi)\n",
    "                    img = PhotoImage(file=\"C:/Users/vbj/ffyp/Final-Year-Project/X-Rays/r.png\")\n",
    "#                     lbl = Label(root,image = img).place(x = 100, y = 50)\n",
    "#                     lbl.pack()\n",
    "\n",
    "        cv2.namedWindow(\"image\")\n",
    "        cv2.setMouseCallback(\"image\", mouse_crop)\n",
    "        i = image.copy()\n",
    "\n",
    "        if not cropping:\n",
    "            cv2.imshow(\"image\", image)\n",
    "\n",
    "        elif cropping:\n",
    "            cv2.rectangle(i, (x_start, y_start), (x_end, y_end), (255, 0, 0), 2)\n",
    "            cv2.imshow(\"image\", i)\n",
    "            \n",
    "        bmd_computation(im)\n",
    "            \n",
    "#         low_pixel_intensity = lpi(im)\n",
    "#         print(low_pixel_intensity)\n",
    "#         if \"70\" in fln and \"40\" in fln:\n",
    "#             mu_b_low = 0.255\n",
    "#         elif \"84\" in fln and \"60\" in fln:\n",
    "#             mu_b_low = 0.214\n",
    "            \n",
    "#         print(mu_b_low)\n",
    "            \n",
    "            \n",
    "        \n",
    "            \n",
    "#         cv2.destroyAllWindows()\n",
    "\n",
    "#             cv2.waitKey(1)\n",
    "\n",
    "# close all open windows\n",
    "#             cv2.destroyAllWindows()\n",
    "#     img = Image.open(fln)\n",
    "#     img = ImageTk.PhotoImage(roi)\n",
    "#     lbl.configure(image=roi)\n",
    "#     lbl.image = roi"
   ]
  },
  {
   "cell_type": "code",
   "execution_count": 52,
   "metadata": {},
   "outputs": [],
   "source": [
    "def highimage():\n",
    "    fln = filedialog.askopenfilename(initialdir=os.getcwd(), title=\"Select Image file\", filetypes=[(\"ALL FILES\", \"*.*\")])\n",
    "    print(fln)\n",
    "    if fln:\n",
    "        image = cv2.imread(fln)\n",
    "#         norm_img = np.zeros((800,800))\n",
    "#         final_image = cv2.normalize(img,  norm_img, 0, 255, cv2.NORM_MINMAX)\n",
    "#         image = Image.fromarray(final_image)\n",
    "        \n",
    "        im = image.copy()\n",
    "        \n",
    "#         cv2.imshow(\"slot\", image)\n",
    "#         cv2.waitKey(0)\n",
    "#         cv2.destroyWindow(\"slot\")\n",
    "        cropping_high = False\n",
    "        global high_pixel_intensity, mu_b_high\n",
    "        left, top, right, bottom = 0, 0, 0, 0\n",
    "        high_pixel_intensity = 0.0\n",
    "        mu_b_high = 0.0\n",
    "# image = cv2.imread('C:/Users/vbj/ffyp/Final-Year-Project/X-Rays/70_40.bmp')\n",
    "        oriImage = image.copy()\n",
    "\n",
    "\n",
    "        def mouse_crop(event, x, y, flags, param):\n",
    "    # grab references to the global variables\n",
    "            global left, top, right, bottom, cropping_high\n",
    "\n",
    "            # if the left mouse button was DOWN, start RECORDING\n",
    "            # (x, y) coordinates and indicate that cropping is being\n",
    "            if event == cv2.EVENT_LBUTTONDOWN:\n",
    "                left, top, right, bottom = x, y, x, y\n",
    "                cropping_high = True\n",
    "\n",
    "            # Mouse is Moving\n",
    "            elif event == cv2.EVENT_MOUSEMOVE:\n",
    "                if cropping_high == True:\n",
    "                    right, bottom = x, y\n",
    "\n",
    "            # if the left mouse button was released\n",
    "            elif event == cv2.EVENT_LBUTTONUP:\n",
    "                # record the ending (x, y) coordinates\n",
    "                right, bottom = x, y\n",
    "                cropping_high = False # cropping is finished\n",
    "\n",
    "                refPoint = [(left, top), (right, bottom)]\n",
    "                print(refPoint)\n",
    "                if len(refPoint) == 2: #when two points were found\n",
    "                    roi = oriImage[refPoint[0][1]:refPoint[1][1], refPoint[0][0]:refPoint[1][0]]\n",
    "                    cv2.imshow(\"Cropped\", roi) \n",
    "                    cv2.imwrite(\"C:/Users/vbj/ffyp/Final-Year-Project/X-Rays/high.png\", roi)\n",
    "                    img = Image.fromarray(roi)\n",
    "                    img = PhotoImage(file=\"C:/Users/vbj/ffyp/Final-Year-Project/X-Rays/high.png\")\n",
    "#                     lbl = Label(root,image = img).place(x = 150, y = 50)\n",
    "#                     lbl.pack()\n",
    "\n",
    "        cv2.namedWindow(\"image\")\n",
    "        cv2.setMouseCallback(\"image\", mouse_crop)\n",
    "        i = image.copy()\n",
    "\n",
    "        if not cropping_high:\n",
    "            cv2.imshow(\"image\", image)\n",
    "\n",
    "        elif cropping_high:\n",
    "            cv2.rectangle(i, (left, top), (right, bottom), (255, 0, 0), 2)\n",
    "            cv2.imshow(\"image\", i)\n",
    "            \n",
    "#         high_pixel_intensity = hpi(im)\n",
    "#         print(high_pixel_intensity)\n",
    "#         if \"111\" in fln and \"120\" in fln:\n",
    "#             mu_b_high = 0.172\n",
    "#         elif \"98\" in fln and \"100\" in fln:\n",
    "#             mu_b_high = 0.189\n",
    "#         elif \"92\" in fln and \"80\" in fln:\n",
    "#             mu_b_high = 0.199\n",
    "            \n",
    "#         print(mu_b_high)\n",
    "            \n",
    "            \n",
    "        \n",
    "            \n",
    "#         cv2.destroyAllWindows()\n",
    "\n",
    "#             cv2.waitKey(1)\n",
    "\n",
    "# close all open windows\n",
    "#             cv2.destroyAllWindows()\n",
    "#     img = Image.open(fln)\n",
    "#     img = ImageTk.PhotoImage(roi)\n",
    "#     lbl.configure(image=roi)\n",
    "#     lbl.image = roi"
   ]
  },
  {
   "cell_type": "code",
   "execution_count": 53,
   "metadata": {},
   "outputs": [],
   "source": [
    "def lowsoft():\n",
    "    fln = filedialog.askopenfilename(initialdir=os.getcwd(), title=\"Select Image file\", filetypes=[(\"ALL FILES\", \"*.*\")])\n",
    "    print(fln)\n",
    "    if fln:\n",
    "        image = cv2.imread(fln)\n",
    "#         norm_img = np.zeros((800,800))\n",
    "#         final_image = cv2.normalize(img,  norm_img, 0, 255, cv2.NORM_MINMAX)\n",
    "#         image = Image.fromarray(final_image)\n",
    "        \n",
    "        im = image.copy()\n",
    "        \n",
    "#         cv2.imshow(\"slot\", image)\n",
    "#         cv2.waitKey(0)\n",
    "#         cv2.destroyWindow(\"slot\")\n",
    "        scropping = False\n",
    "        global k_low_pixel_intensity\n",
    "        sleft, stop, sright, sbottom = 0, 0, 0, 0\n",
    "        k_low_pixel_intensity = 0.0 \n",
    "\n",
    "# image = cv2.imread('C:/Users/vbj/ffyp/Final-Year-Project/X-Rays/70_40.bmp')\n",
    "        oriImage = image.copy()\n",
    "\n",
    "\n",
    "        def mouse_crop(event, x, y, flags, param):\n",
    "    # grab references to the global variables\n",
    "            global sleft, stop, sright, sbottom, scropping\n",
    "    \n",
    "            # if the left mouse button was DOWN, start RECORDING\n",
    "            # (x, y) coordinates and indicate that cropping is being\n",
    "            if event == cv2.EVENT_LBUTTONDOWN:\n",
    "                sleft, stop, sright, sbottom = x, y, x, y\n",
    "                scropping = True\n",
    "\n",
    "            # Mouse is Moving\n",
    "            elif event == cv2.EVENT_MOUSEMOVE:\n",
    "                if scropping == True:\n",
    "                    sright, sbottom = x, y\n",
    "\n",
    "            # if the left mouse button was released\n",
    "            elif event == cv2.EVENT_LBUTTONUP:\n",
    "                # record the ending (x, y) coordinates\n",
    "                sright, sbottom = x, y\n",
    "                scropping = False # cropping is finished\n",
    "\n",
    "                refPoint = [(sleft, stop), (sright, sbottom)]\n",
    "                print(refPoint)\n",
    "                if len(refPoint) == 2: #when two points were found\n",
    "                    roi = oriImage[refPoint[0][1]:refPoint[1][1], refPoint[0][0]:refPoint[1][0]]\n",
    "                    cv2.imshow(\"Cropped\", roi) \n",
    "                    cv2.imwrite(\"C:/Users/vbj/ffyp/Final-Year-Project/X-Rays/slow.png\", roi)\n",
    "                    img = Image.fromarray(roi)\n",
    "                    img = PhotoImage(file=\"C:/Users/vbj/ffyp/Final-Year-Project/X-Rays/slow.png\")\n",
    "#                     lbl = Label(root,image = img).place(x = 150, y = 50)\n",
    "#                     lbl.pack()\n",
    "\n",
    "        cv2.namedWindow(\"image\")\n",
    "        cv2.setMouseCallback(\"image\", mouse_crop)\n",
    "        i = image.copy()\n",
    "\n",
    "        if not cropping_high:\n",
    "            cv2.imshow(\"image\", image)\n",
    "\n",
    "        elif cropping_high:\n",
    "            cv2.rectangle(i, (sleft, stop), (sright, sbottom), (255, 0, 0), 2)\n",
    "            cv2.imshow(\"image\", i)\n",
    "        \n",
    "#         k_low_pixel_intensity = soft_lpi(im)\n",
    "#         print(k_low_pixel_intensity)\n",
    "#         if 70 in fln and 40 in fln:\n",
    "#             mu_b_low = 0.192\n",
    "#         elif 84 in fln and 60 in fln:\n",
    "#             mu_b_low = 0.1795\n",
    "#         elif 92 in fln and 80 in fln:\n",
    "#             mu_b_low = \n",
    "#         high_pix(im)\n",
    "            \n",
    "        \n",
    "            \n",
    "#         cv2.destroyAllWindows()\n",
    "\n",
    "#             cv2.waitKey(1)\n",
    "\n",
    "# close all open windows\n",
    "#             cv2.destroyAllWindows()\n",
    "#     img = Image.open(fln)\n",
    "#     img = ImageTk.PhotoImage(roi)\n",
    "#     lbl.configure(image=roi)\n",
    "#     lbl.image = roi"
   ]
  },
  {
   "cell_type": "code",
   "execution_count": 54,
   "metadata": {},
   "outputs": [],
   "source": [
    "def highsoft():\n",
    "    fln = filedialog.askopenfilename(initialdir=os.getcwd(), title=\"Select Image file\", filetypes=[(\"ALL FILES\", \"*.*\")])\n",
    "    print(fln)\n",
    "    if fln:\n",
    "        image = cv2.imread(fln)\n",
    "#         norm_img = np.zeros((800,800))\n",
    "#         final_image = cv2.normalize(img,  norm_img, 0, 255, cv2.NORM_MINMAX)\n",
    "#         image = Image.fromarray(final_image)\n",
    "        \n",
    "        im = image.copy()\n",
    "        \n",
    "#         cv2.imshow(\"slot\", image)\n",
    "#         cv2.waitKey(0)\n",
    "#         cv2.destroyWindow(\"slot\")\n",
    "        scropping_high = False\n",
    "        global k_high_pixel_intensity\n",
    "        lefth, toph, righth, bottomh = 0, 0, 0, 0\n",
    "        k_high_pixel_intensity = 0.0\n",
    "# image = cv2.imread('C:/Users/vbj/ffyp/Final-Year-Project/X-Rays/70_40.bmp')\n",
    "        oriImage = image.copy()\n",
    "\n",
    "\n",
    "        def mouse_crop(event, x, y, flags, param):\n",
    "    # grab references to the global variables\n",
    "            global lefth, toph, righth, bottomh, scropping_high\n",
    "\n",
    "            # if the left mouse button was DOWN, start RECORDING\n",
    "            # (x, y) coordinates and indicate that cropping is being\n",
    "            if event == cv2.EVENT_LBUTTONDOWN:\n",
    "                lefth, toph, righth, bottomh = x, y, x, y\n",
    "                scropping_high = True\n",
    "\n",
    "            # Mouse is Moving\n",
    "            elif event == cv2.EVENT_MOUSEMOVE:\n",
    "                if scropping_high == True:\n",
    "                    righth, bottomh = x, y\n",
    "\n",
    "            # if the left mouse button was released\n",
    "            elif event == cv2.EVENT_LBUTTONUP:\n",
    "                # record the ending (x, y) coordinates\n",
    "                righth, bottomh = x, y\n",
    "                scropping_high = False # cropping is finished\n",
    "\n",
    "                refPoint = [(lefth, toph), (righth, bottomh)]\n",
    "                print(refPoint)\n",
    "                if len(refPoint) == 2: #when two points were found\n",
    "                    roi = oriImage[refPoint[0][1]:refPoint[1][1], refPoint[0][0]:refPoint[1][0]]\n",
    "                    cv2.imshow(\"Cropped\", roi) \n",
    "                    cv2.imwrite(\"C:/Users/vbj/ffyp/Final-Year-Project/X-Rays/shigh.png\", roi)\n",
    "                    img = Image.fromarray(roi)\n",
    "                    img = PhotoImage(file=\"C:/Users/vbj/ffyp/Final-Year-Project/X-Rays/shigh.png\")\n",
    "#                     lbl = Label(root,image = img).place(x = 150, y = 50)\n",
    "#                     lbl.pack()\n",
    "\n",
    "        cv2.namedWindow(\"image\")\n",
    "        cv2.setMouseCallback(\"image\", mouse_crop)\n",
    "        i = image.copy()\n",
    "\n",
    "        if not scropping_high:\n",
    "            cv2.imshow(\"image\", image)\n",
    "\n",
    "        elif scropping_high:\n",
    "            cv2.rectangle(i, (lefth, toph), (righth, bottomh), (255, 0, 0), 2)\n",
    "            cv2.imshow(\"image\", i)\n",
    "        \n",
    "        \n",
    "#         k_high_pixel_intensity = soft_hpi(im)\n",
    "#         print(k_high_pixel_intensity)\n",
    "#         if 111 in fln and 120 in fln:\n",
    "#             mu_b_low = 0.163 \n",
    "#         elif 98 in fln and 100 in fln:\n",
    "#             mu_b_low = \n",
    "#         high_pix(im)\n",
    "            \n",
    "        \n",
    "            \n",
    "#         cv2.destroyAllWindows()\n",
    "\n",
    "#             cv2.waitKey(1)\n",
    "\n",
    "# close all open windows\n",
    "#             cv2.destroyAllWindows()\n",
    "#     img = Image.open(fln)\n",
    "#     img = ImageTk.PhotoImage(roi)\n",
    "#     lbl.configure(image=roi)\n",
    "#     lbl.image = roi"
   ]
  },
  {
   "cell_type": "code",
   "execution_count": null,
   "metadata": {
    "scrolled": true
   },
   "outputs": [
    {
     "name": "stdout",
     "output_type": "stream",
     "text": [
      "C:/Users/vbj/f1/Final-Year-Project/X-Rays/92KV.jpg\n",
      "0.4246617694821409\n"
     ]
    },
    {
     "name": "stderr",
     "output_type": "stream",
     "text": [
      "Exception in Tkinter callback\n",
      "Traceback (most recent call last):\n",
      "  File \"C:\\Users\\vbj\\Anaconda3\\lib\\tkinter\\__init__.py\", line 1705, in __call__\n",
      "    return self.func(*args)\n",
      "  File \"<ipython-input-51-a423191023a7>\", line 69, in showimage\n",
      "    bmd_computation(im)\n",
      "  File \"<ipython-input-50-bb018ff19a73>\", line 17, in bmd_computation\n",
      "    lbl.pack()\n",
      "AttributeError: 'NoneType' object has no attribute 'pack'\n"
     ]
    },
    {
     "name": "stdout",
     "output_type": "stream",
     "text": [
      "[(984, 187), (1200, 265)]\n",
      "C:/Users/vbj/f1/Final-Year-Project/X-Rays/92KV.jpg\n",
      "0.8155635156823742\n"
     ]
    },
    {
     "name": "stderr",
     "output_type": "stream",
     "text": [
      "Exception in Tkinter callback\n",
      "Traceback (most recent call last):\n",
      "  File \"C:\\Users\\vbj\\Anaconda3\\lib\\tkinter\\__init__.py\", line 1705, in __call__\n",
      "    return self.func(*args)\n",
      "  File \"<ipython-input-51-a423191023a7>\", line 69, in showimage\n",
      "    bmd_computation(im)\n",
      "  File \"<ipython-input-50-bb018ff19a73>\", line 17, in bmd_computation\n",
      "    lbl.pack()\n",
      "AttributeError: 'NoneType' object has no attribute 'pack'\n"
     ]
    },
    {
     "name": "stdout",
     "output_type": "stream",
     "text": [
      "[(1009, 572), (1265, 730)]\n",
      "C:/Users/vbj/f1/Final-Year-Project/X-Rays/92KV.jpg\n",
      "2.1620742012350944\n"
     ]
    },
    {
     "name": "stderr",
     "output_type": "stream",
     "text": [
      "Exception in Tkinter callback\n",
      "Traceback (most recent call last):\n",
      "  File \"C:\\Users\\vbj\\Anaconda3\\lib\\tkinter\\__init__.py\", line 1705, in __call__\n",
      "    return self.func(*args)\n",
      "  File \"<ipython-input-51-a423191023a7>\", line 69, in showimage\n",
      "    bmd_computation(im)\n",
      "  File \"<ipython-input-50-bb018ff19a73>\", line 17, in bmd_computation\n",
      "    lbl.pack()\n",
      "AttributeError: 'NoneType' object has no attribute 'pack'\n"
     ]
    },
    {
     "name": "stdout",
     "output_type": "stream",
     "text": [
      "[(986, 178), (1210, 241)]\n",
      "C:/Users/vbj/f1/Final-Year-Project/X-Rays/92KV.jpg\n",
      "0.5709954162879958\n"
     ]
    },
    {
     "name": "stderr",
     "output_type": "stream",
     "text": [
      "Exception in Tkinter callback\n",
      "Traceback (most recent call last):\n",
      "  File \"C:\\Users\\vbj\\Anaconda3\\lib\\tkinter\\__init__.py\", line 1705, in __call__\n",
      "    return self.func(*args)\n",
      "  File \"<ipython-input-51-a423191023a7>\", line 69, in showimage\n",
      "    bmd_computation(im)\n",
      "  File \"<ipython-input-50-bb018ff19a73>\", line 17, in bmd_computation\n",
      "    lbl.pack()\n",
      "AttributeError: 'NoneType' object has no attribute 'pack'\n"
     ]
    },
    {
     "name": "stdout",
     "output_type": "stream",
     "text": [
      "[(979, 193), (1220, 248)]\n",
      "C:/Users/vbj/f1/Final-Year-Project/X-Rays/92KV.jpg\n",
      "0.40087731463393583\n"
     ]
    },
    {
     "name": "stderr",
     "output_type": "stream",
     "text": [
      "Exception in Tkinter callback\n",
      "Traceback (most recent call last):\n",
      "  File \"C:\\Users\\vbj\\Anaconda3\\lib\\tkinter\\__init__.py\", line 1705, in __call__\n",
      "    return self.func(*args)\n",
      "  File \"<ipython-input-51-a423191023a7>\", line 69, in showimage\n",
      "    bmd_computation(im)\n",
      "  File \"<ipython-input-50-bb018ff19a73>\", line 17, in bmd_computation\n",
      "    lbl.pack()\n",
      "AttributeError: 'NoneType' object has no attribute 'pack'\n"
     ]
    },
    {
     "name": "stdout",
     "output_type": "stream",
     "text": [
      "[(973, 232), (1218, 291)]\n",
      "C:/Users/vbj/f1/Final-Year-Project/X-Rays/92KV.jpg\n",
      "0.4431190909199214\n"
     ]
    },
    {
     "name": "stderr",
     "output_type": "stream",
     "text": [
      "Exception in Tkinter callback\n",
      "Traceback (most recent call last):\n",
      "  File \"C:\\Users\\vbj\\Anaconda3\\lib\\tkinter\\__init__.py\", line 1705, in __call__\n",
      "    return self.func(*args)\n",
      "  File \"<ipython-input-51-a423191023a7>\", line 69, in showimage\n",
      "    bmd_computation(im)\n",
      "  File \"<ipython-input-50-bb018ff19a73>\", line 17, in bmd_computation\n",
      "    lbl.pack()\n",
      "AttributeError: 'NoneType' object has no attribute 'pack'\n"
     ]
    },
    {
     "name": "stdout",
     "output_type": "stream",
     "text": [
      "[(1005, 570), (1239, 626)]\n",
      "C:/Users/vbj/f1/Final-Year-Project/X-Rays/92KV.jpg\n",
      "0.4612469842766246\n"
     ]
    },
    {
     "name": "stderr",
     "output_type": "stream",
     "text": [
      "Exception in Tkinter callback\n",
      "Traceback (most recent call last):\n",
      "  File \"C:\\Users\\vbj\\Anaconda3\\lib\\tkinter\\__init__.py\", line 1705, in __call__\n",
      "    return self.func(*args)\n",
      "  File \"<ipython-input-51-a423191023a7>\", line 69, in showimage\n",
      "    bmd_computation(im)\n",
      "  File \"<ipython-input-50-bb018ff19a73>\", line 17, in bmd_computation\n",
      "    lbl.pack()\n",
      "AttributeError: 'NoneType' object has no attribute 'pack'\n"
     ]
    },
    {
     "name": "stdout",
     "output_type": "stream",
     "text": [
      "[(549, 301), (601, 345)]\n",
      "C:/Users/vbj/f1/Final-Year-Project/X-Rays/92KV.jpg\n",
      "0.9636092914655094\n"
     ]
    },
    {
     "name": "stderr",
     "output_type": "stream",
     "text": [
      "Exception in Tkinter callback\n",
      "Traceback (most recent call last):\n",
      "  File \"C:\\Users\\vbj\\Anaconda3\\lib\\tkinter\\__init__.py\", line 1705, in __call__\n",
      "    return self.func(*args)\n",
      "  File \"<ipython-input-51-a423191023a7>\", line 69, in showimage\n",
      "    bmd_computation(im)\n",
      "  File \"<ipython-input-50-bb018ff19a73>\", line 17, in bmd_computation\n",
      "    lbl.pack()\n",
      "AttributeError: 'NoneType' object has no attribute 'pack'\n"
     ]
    }
   ],
   "source": [
    "frame = Frame(root)\n",
    "frame.pack(side=BOTTOM, padx=15, pady = 15)\n",
    "\n",
    "lbl = Label(root)\n",
    "lbl.pack()\n",
    "\n",
    "btn = Button(frame,text=\"Low-Image\", command=highsoft)\n",
    "btn.pack(side=tk.LEFT)\n",
    "\n",
    "\n",
    "btn2 = Button(frame,text=\"High-Image\", command=highimage)\n",
    "btn2.pack(side=tk.LEFT,padx = 10)\n",
    "\n",
    "btn3 = Button(frame,text=\"Low-Soft-tissue\", command=lowsoft)\n",
    "btn3.pack(side=tk.LEFT)\n",
    "\n",
    "btn4 = Button(frame,text=\"High-Soft-tissue\", command=showimage)\n",
    "btn4.pack(side=tk.LEFT,padx = 10)\n",
    "\n",
    "\n",
    "\n",
    "\n",
    "root.title(\"BMD\")\n",
    "root.geometry(\"300x350\")\n",
    "root.mainloop()"
   ]
  },
  {
   "cell_type": "code",
   "execution_count": 34,
   "metadata": {},
   "outputs": [
    {
     "ename": "NameError",
     "evalue": "name 'sleft' is not defined",
     "output_type": "error",
     "traceback": [
      "\u001b[1;31m---------------------------------------------------------------------------\u001b[0m",
      "\u001b[1;31mNameError\u001b[0m                                 Traceback (most recent call last)",
      "\u001b[1;32m<ipython-input-34-ad047873c9d9>\u001b[0m in \u001b[0;36m<module>\u001b[1;34m\u001b[0m\n\u001b[0;32m      1\u001b[0m \u001b[1;31m# print(x_start,y_start,x_end,y_end)\u001b[0m\u001b[1;33m\u001b[0m\u001b[1;33m\u001b[0m\u001b[1;33m\u001b[0m\u001b[0m\n\u001b[0;32m      2\u001b[0m \u001b[1;31m# print(left,right,top,bottom)\u001b[0m\u001b[1;33m\u001b[0m\u001b[1;33m\u001b[0m\u001b[1;33m\u001b[0m\u001b[0m\n\u001b[1;32m----> 3\u001b[1;33m \u001b[0mprint\u001b[0m\u001b[1;33m(\u001b[0m\u001b[0msleft\u001b[0m\u001b[1;33m,\u001b[0m\u001b[0msright\u001b[0m\u001b[1;33m,\u001b[0m\u001b[0mstop\u001b[0m\u001b[1;33m,\u001b[0m\u001b[0msbottom\u001b[0m\u001b[1;33m)\u001b[0m\u001b[1;33m\u001b[0m\u001b[1;33m\u001b[0m\u001b[0m\n\u001b[0m\u001b[0;32m      4\u001b[0m \u001b[1;31m# print(lefth,righth,toph,bottomh)\u001b[0m\u001b[1;33m\u001b[0m\u001b[1;33m\u001b[0m\u001b[1;33m\u001b[0m\u001b[0m\n",
      "\u001b[1;31mNameError\u001b[0m: name 'sleft' is not defined"
     ]
    }
   ],
   "source": [
    "# print(x_start,y_start,x_end,y_end)\n",
    "# print(left,right,top,bottom)\n",
    "print(sleft,sright,stop,sbottom)\n",
    "# print(lefth,righth,toph,bottomh)\n"
   ]
  },
  {
   "cell_type": "code",
   "execution_count": null,
   "metadata": {},
   "outputs": [],
   "source": [
    "im"
   ]
  },
  {
   "cell_type": "code",
   "execution_count": 134,
   "metadata": {},
   "outputs": [
    {
     "ename": "NameError",
     "evalue": "name 'fln' is not defined",
     "output_type": "error",
     "traceback": [
      "\u001b[1;31m---------------------------------------------------------------------------\u001b[0m",
      "\u001b[1;31mNameError\u001b[0m                                 Traceback (most recent call last)",
      "\u001b[1;32m<ipython-input-134-82fa2114afe1>\u001b[0m in \u001b[0;36m<module>\u001b[1;34m\u001b[0m\n\u001b[1;32m----> 1\u001b[1;33m \u001b[0mfln\u001b[0m\u001b[1;33m\u001b[0m\u001b[1;33m\u001b[0m\u001b[0m\n\u001b[0m",
      "\u001b[1;31mNameError\u001b[0m: name 'fln' is not defined"
     ]
    }
   ],
   "source": []
  },
  {
   "cell_type": "code",
   "execution_count": 61,
   "metadata": {},
   "outputs": [
    {
     "name": "stdout",
     "output_type": "stream",
     "text": [
      "133.52272727272728\n",
      "80.73504273504274\n",
      "97.0\n",
      "51.51923076923077\n",
      "0.255\n",
      "0.172\n"
     ]
    }
   ],
   "source": [
    "print(low_pixel_intensity)\n",
    "# high_pixel_intensity  \n",
    "# k_low_pixel_intensity \n",
    "# k_high_pixel_intensity\n",
    "# mu_b_low\n",
    "# mu_b_high\n",
    "print(high_pixel_intensity)\n",
    "print(k_low_pixel_intensity)\n",
    "print(k_high_pixel_intensity)\n",
    "print(mu_b_low)\n",
    "print(mu_b_high)"
   ]
  },
  {
   "cell_type": "code",
   "execution_count": 46,
   "metadata": {},
   "outputs": [
    {
     "name": "stdout",
     "output_type": "stream",
     "text": [
      "130.03333333333333\n"
     ]
    }
   ],
   "source": [
    "print(low_pixel_intensity)"
   ]
  },
  {
   "cell_type": "code",
   "execution_count": 69,
   "metadata": {},
   "outputs": [],
   "source": [
    "def bmd():\n",
    "    K = math.log(k_low_pixel_intensity)/math.log(k_high_pixel_intensity)\n",
    "    Numerator = (math.log(low_pixel_intensity)) - (K * math.log(high_pixel_intensity)) \n",
    "    Denominator = mu_b_low - (K * mu_b_high)\n",
    "    M_b = Numerator/Denominator\n",
    "    \n",
    "    lbl = Label(root,text=str(M_b)).place(x = 150, y = 50)\n",
    "    lbl.pack()"
   ]
  },
  {
   "cell_type": "code",
   "execution_count": 68,
   "metadata": {},
   "outputs": [
    {
     "name": "stdout",
     "output_type": "stream",
     "text": [
      "-3.6425589898267456\n"
     ]
    }
   ],
   "source": [
    "bmd()"
   ]
  },
  {
   "cell_type": "code",
   "execution_count": null,
   "metadata": {},
   "outputs": [],
   "source": []
  },
  {
   "cell_type": "code",
   "execution_count": null,
   "metadata": {},
   "outputs": [],
   "source": []
  }
 ],
 "metadata": {
  "kernelspec": {
   "display_name": "Python 3",
   "language": "python",
   "name": "python3"
  },
  "language_info": {
   "codemirror_mode": {
    "name": "ipython",
    "version": 3
   },
   "file_extension": ".py",
   "mimetype": "text/x-python",
   "name": "python",
   "nbconvert_exporter": "python",
   "pygments_lexer": "ipython3",
   "version": "3.7.3"
  }
 },
 "nbformat": 4,
 "nbformat_minor": 2
}
