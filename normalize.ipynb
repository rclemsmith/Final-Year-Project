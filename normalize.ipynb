{
 "cells": [
  {
   "cell_type": "code",
   "execution_count": 1,
   "metadata": {},
   "outputs": [],
   "source": [
    "from PIL import Image, ImageFilter\n",
    "from skimage.feature import greycomatrix\n",
    "import numpy as np\n",
    "from matplotlib import pyplot as plt\n",
    "import cv2 as cv\n",
    "from scipy.misc import toimage\n",
    "import math"
   ]
  },
  {
   "cell_type": "code",
   "execution_count": 7,
   "metadata": {},
   "outputs": [
    {
     "data": {
      "text/plain": [
       "<matplotlib.image.AxesImage at 0x254f7e66630>"
      ]
     },
     "execution_count": 7,
     "metadata": {},
     "output_type": "execute_result"
    },
    {
     "data": {
      "image/png": "[encoded data removed]",
      "text/plain": [
       "<Figure size 432x288 with 1 Axes>"
      ]
     },
     "metadata": {
      "needs_background": "light"
     },
     "output_type": "display_data"
    }
   ],
   "source": [
    "img = cv.imread('X-Rays/70_40.bmp')\n",
    "norm_img = np.zeros((800,800))\n",
    "final_image = cv.normalize(img,  norm_img, 0, 255, cv.NORM_MINMAX)\n",
    "low_image = Image.fromarray(final_image)\n",
    "plt.imshow(low_image)"
   ]
  },
  {
   "cell_type": "code",
   "execution_count": 12,
   "metadata": {},
   "outputs": [
    {
     "data": {
      "text/plain": [
       "<matplotlib.image.AxesImage at 0x254f7a8c550>"
      ]
     },
     "execution_count": 12,
     "metadata": {},
     "output_type": "execute_result"
    },
    {
     "data": {
      "image/png": "[encoded data removed]",
      "text/plain": [
       "<Figure size 432x288 with 1 Axes>"
      ]
     },
     "metadata": {
      "needs_background": "light"
     },
     "output_type": "display_data"
    }
   ],
   "source": [
    "# left = 47\n",
    "# top = 88.8\n",
    "# right = 58\n",
    "# bottom = 94\n",
    "# low_cropped_img = low_image.crop((left,top,right,bottom))\n",
    "# low_cropped_img.show()\n",
    "# plt.imshow(low_cropped_img)\n",
    "\n",
    "left = 59\n",
    "top = 65\n",
    "right = 70\n",
    "bottom = 73\n",
    "low_cropped_img = low_image.crop((left,top,right,bottom))\n",
    "# low_cropped_img.show()\n",
    "plt.imshow(low_cropped_img)"
   ]
  },
  {
   "cell_type": "code",
   "execution_count": 9,
   "metadata": {},
   "outputs": [
    {
     "data": {
      "text/plain": [
       "array([101, 104, 105, 107, 108, 110, 113, 120, 122, 125, 126, 128, 129,\n",
       "       130, 131, 132, 133, 135, 136, 137, 138, 139, 141, 142, 143, 153,\n",
       "       154, 156, 157, 158, 161, 162, 163], dtype=uint8)"
      ]
     },
     "execution_count": 9,
     "metadata": {},
     "output_type": "execute_result"
    }
   ],
   "source": [
    "np.unique(low_cropped_img)"
   ]
  },
  {
   "cell_type": "code",
   "execution_count": 10,
   "metadata": {},
   "outputs": [
    {
     "name": "stdout",
     "output_type": "stream",
     "text": [
      "133.43269230769232\n"
     ]
    }
   ],
   "source": [
    "low_avg_pixel_intensity = np.mean(low_cropped_img)\n",
    "print(low_avg_pixel_intensity)"
   ]
  },
  {
   "cell_type": "code",
   "execution_count": null,
   "metadata": {},
   "outputs": [],
   "source": []
  }
 ],
 "metadata": {
  "kernelspec": {
   "display_name": "Python 3",
   "language": "python",
   "name": "python3"
  },
  "language_info": {
   "codemirror_mode": {
    "name": "ipython",
    "version": 3
   },
   "file_extension": ".py",
   "mimetype": "text/x-python",
   "name": "python",
   "nbconvert_exporter": "python",
   "pygments_lexer": "ipython3",
   "version": "3.7.3"
  }
 },
 "nbformat": 4,
 "nbformat_minor": 2
}
