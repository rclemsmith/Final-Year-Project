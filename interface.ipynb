{
 "cells": [
  {
   "cell_type": "code",
   "execution_count": 36,
   "metadata": {},
   "outputs": [],
   "source": [
    "from tkinter import *\n",
    "from tkinter import filedialog\n",
    "import os\n",
    "import tkinter as tk\n",
    "from PIL import Image, ImageTk"
   ]
  },
  {
   "cell_type": "code",
   "execution_count": 37,
   "metadata": {},
   "outputs": [],
   "source": [
    "root = Tk()"
   ]
  },
  {
   "cell_type": "code",
   "execution_count": 38,
   "metadata": {},
   "outputs": [],
   "source": [
    "def showimage():\n",
    "    fln = filedialog.askopenfilename(initialdir=os.getcwd(), title=\"Select Image file\", filetypes=[(\"ALL FILES\", \"*.*\")])\n",
    "    img = Image.open(fln)\n",
    "    img = ImageTk.PhotoImage(img)\n",
    "    lbl.configure(image=img)\n",
    "    lbl.image = img\n",
    "     "
   ]
  },
  {
   "cell_type": "code",
   "execution_count": 39,
   "metadata": {},
   "outputs": [],
   "source": [
    "frame = Frame(root)\n",
    "frame.pack(side=BOTTOM, padx=15, pady = 15)\n",
    "\n",
    "lbl = Label(root)\n",
    "lbl.pack()\n",
    "\n",
    "btn = Button(frame,text=\"Browse Image\", command=showimage)\n",
    "btn.pack(side=tk.LEFT)\n",
    "\n",
    "btn2 = Button(frame,text = \"Exit\", command=lambda: exit())\n",
    "btn2.pack(side=tk.LEFT,padx = 10)\n",
    "\n",
    "root.title(\"BMD\")\n",
    "root.geometry(\"300x350\")\n",
    "root.mainloop()"
   ]
  },
  {
   "cell_type": "code",
   "execution_count": null,
   "metadata": {},
   "outputs": [],
   "source": []
  }
 ],
 "metadata": {
  "kernelspec": {
   "display_name": "Python 3",
   "language": "python",
   "name": "python3"
  },
  "language_info": {
   "codemirror_mode": {
    "name": "ipython",
    "version": 3
   },
   "file_extension": ".py",
   "mimetype": "text/x-python",
   "name": "python",
   "nbconvert_exporter": "python",
   "pygments_lexer": "ipython3",
   "version": "3.7.3"
  }
 },
 "nbformat": 4,
 "nbformat_minor": 2
}
