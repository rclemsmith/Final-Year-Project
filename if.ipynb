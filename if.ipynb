{
 "cells": [
  {
   "cell_type": "code",
   "execution_count": 160,
   "metadata": {},
   "outputs": [],
   "source": [
    "from tkinter import *\n",
    "from tkinter import filedialog\n",
    "import os\n",
    "import tkinter as tk\n",
    "import cv2\n",
    "from PIL import Image, ImageTk\n",
    "import numpy as np"
   ]
  },
  {
   "cell_type": "code",
   "execution_count": 196,
   "metadata": {},
   "outputs": [
    {
     "data": {
      "text/plain": [
       "''"
      ]
     },
     "execution_count": 196,
     "metadata": {},
     "output_type": "execute_result"
    }
   ],
   "source": [
    "root = Tk()\n",
    "root.geometry('500x500')"
   ]
  },
  {
   "cell_type": "code",
   "execution_count": 197,
   "metadata": {},
   "outputs": [],
   "source": [
    "def showimage():\n",
    "    fln = filedialog.askopenfilename(initialdir=os.getcwd(), title=\"Select Image file\", filetypes=[(\"ALL FILES\", \"*.*\")])\n",
    "    print(fln)\n",
    "    if fln:\n",
    "        image = cv2.imread(fln)\n",
    "#         cv2.imshow(\"slot\", image)\n",
    "#         cv2.waitKey(0)\n",
    "#         cv2.destroyWindow(\"slot\")\n",
    "        cropping = False\n",
    "\n",
    "        x_start, y_start, x_end, y_end = 0, 0, 0, 0\n",
    "\n",
    "# image = cv2.imread('C:/Users/vbj/ffyp/Final-Year-Project/X-Rays/70_40.bmp')\n",
    "        oriImage = image.copy()\n",
    "\n",
    "\n",
    "        def mouse_crop(event, x, y, flags, param):\n",
    "    # grab references to the global variables\n",
    "            global x_start, y_start, x_end, y_end, cropping\n",
    "\n",
    "            # if the left mouse button was DOWN, start RECORDING\n",
    "            # (x, y) coordinates and indicate that cropping is being\n",
    "            if event == cv2.EVENT_LBUTTONDOWN:\n",
    "                x_start, y_start, x_end, y_end = x, y, x, y\n",
    "                cropping = True\n",
    "\n",
    "            # Mouse is Moving\n",
    "            elif event == cv2.EVENT_MOUSEMOVE:\n",
    "                if cropping == True:\n",
    "                    x_end, y_end = x, y\n",
    "\n",
    "            # if the left mouse button was released\n",
    "            elif event == cv2.EVENT_LBUTTONUP:\n",
    "                # record the ending (x, y) coordinates\n",
    "                x_end, y_end = x, y\n",
    "                cropping = False # cropping is finished\n",
    "\n",
    "                refPoint = [(x_start, y_start), (x_end, y_end)]\n",
    "                print(refPoint)\n",
    "                if len(refPoint) == 2: #when two points were found\n",
    "                    roi = oriImage[refPoint[0][1]:refPoint[1][1], refPoint[0][0]:refPoint[1][0]]\n",
    "                    cv2.imshow(\"Cropped\", roi) \n",
    "                    cv2.imwrite(\"C:/Users/jashw/Final-Year-Project/X-Rays/roi.png\", roi)\n",
    "                    img = Image.fromarray(roi)\n",
    "                    img = PhotoImage(file=\"C:/Users/jashw/Final-Year-Project/X-Rays/roi.png\")\n",
    "                    lbl = Label(root,image = img).place(x = 100, y = 50)\n",
    "                    lbl.pack()\n",
    "\n",
    "        cv2.namedWindow(\"image\")\n",
    "        cv2.setMouseCallback(\"image\", mouse_crop)\n",
    "        i = image.copy()\n",
    "\n",
    "        if not cropping:\n",
    "            cv2.imshow(\"image\", image)\n",
    "\n",
    "        elif cropping:\n",
    "            cv2.rectangle(i, (x_start, y_start), (x_end, y_end), (255, 0, 0), 2)\n",
    "            cv2.imshow(\"image\", i)\n",
    "\n",
    "#             cv2.waitKey(1)\n",
    "\n",
    "# close all open windows\n",
    "#             cv2.destroyAllWindows()\n",
    "#     img = Image.open(fln)\n",
    "#     img = ImageTk.PhotoImage(roi)\n",
    "#     lbl.configure(image=roi)\n",
    "#     lbl.image = roi"
   ]
  },
  {
   "cell_type": "code",
   "execution_count": 198,
   "metadata": {},
   "outputs": [],
   "source": [
    "\n",
    "# import cv2\n",
    "# import numpy as np\n",
    "\n",
    "\n",
    "# cropping = False\n",
    "\n",
    "# x_start, y_start, x_end, y_end = 0, 0, 0, 0\n",
    "\n",
    "# image = cv2.imread('C:/Users/vbj/ffyp/Final-Year-Project/X-Rays/70_40.bmp')\n",
    "# oriImage = image.copy()\n",
    "\n",
    "\n",
    "# def mouse_crop(event, x, y, flags, param):\n",
    "#     # grab references to the global variables\n",
    "#     global x_start, y_start, x_end, y_end, cropping\n",
    "\n",
    "#     # if the left mouse button was DOWN, start RECORDING\n",
    "#     # (x, y) coordinates and indicate that cropping is being\n",
    "#     if event == cv2.EVENT_LBUTTONDOWN:\n",
    "#         x_start, y_start, x_end, y_end = x, y, x, y\n",
    "#         cropping = True\n",
    "\n",
    "#     # Mouse is Moving\n",
    "#     elif event == cv2.EVENT_MOUSEMOVE:\n",
    "#         if cropping == True:\n",
    "#             x_end, y_end = x, y\n",
    "\n",
    "#     # if the left mouse button was released\n",
    "#     elif event == cv2.EVENT_LBUTTONUP:\n",
    "#         # record the ending (x, y) coordinates\n",
    "#         x_end, y_end = x, y\n",
    "#         cropping = False # cropping is finished\n",
    "\n",
    "#         refPoint = [(x_start, y_start), (x_end, y_end)]\n",
    "#         print(refPoint)\n",
    "#         if len(refPoint) == 2: #when two points were found\n",
    "#             roi = oriImage[refPoint[0][1]:refPoint[1][1], refPoint[0][0]:refPoint[1][0]]\n",
    "#             cv2.imshow(\"Cropped\", roi)\n",
    "\n",
    "# cv2.namedWindow(\"image\")\n",
    "# cv2.setMouseCallback(\"image\", mouse_crop)\n",
    "\n",
    "# while True:\n",
    "\n",
    "#     i = image.copy()\n",
    "\n",
    "#     if not cropping:\n",
    "#         cv2.imshow(\"image\", image)\n",
    "\n",
    "#     elif cropping:\n",
    "#         cv2.rectangle(i, (x_start, y_start), (x_end, y_end), (255, 0, 0), 2)\n",
    "#         cv2.imshow(\"image\", i)\n",
    "\n",
    "#     cv2.waitKey(1)\n",
    "\n",
    "# # close all open windows\n",
    "# cv2.destroyAllWindows()"
   ]
  },
  {
   "cell_type": "code",
   "execution_count": 199,
   "metadata": {},
   "outputs": [
    {
     "name": "stdout",
     "output_type": "stream",
     "text": [
      "C:/Users/jashw/Final-Year-Project/X-Rays/98_100.bmp\n",
      "[(44, 13), (92, 47)]\n"
     ]
    },
    {
     "ename": "AttributeError",
     "evalue": "'NoneType' object has no attribute 'pack'",
     "output_type": "error",
     "traceback": [
      "\u001b[1;31m---------------------------------------------------------------------------\u001b[0m",
      "\u001b[1;31mAttributeError\u001b[0m                            Traceback (most recent call last)",
      "\u001b[1;32m<ipython-input-197-fb842252bc83>\u001b[0m in \u001b[0;36mmouse_crop\u001b[1;34m(event, x, y, flags, param)\u001b[0m\n\u001b[0;32m     45\u001b[0m                     \u001b[0mimg\u001b[0m \u001b[1;33m=\u001b[0m \u001b[0mPhotoImage\u001b[0m\u001b[1;33m(\u001b[0m\u001b[0mfile\u001b[0m\u001b[1;33m=\u001b[0m\u001b[1;34m\"C:/Users/jashw/Final-Year-Project/X-Rays/roi.png\"\u001b[0m\u001b[1;33m)\u001b[0m\u001b[1;33m\u001b[0m\u001b[1;33m\u001b[0m\u001b[0m\n\u001b[0;32m     46\u001b[0m                     \u001b[0mlbl\u001b[0m \u001b[1;33m=\u001b[0m \u001b[0mLabel\u001b[0m\u001b[1;33m(\u001b[0m\u001b[0mroot\u001b[0m\u001b[1;33m,\u001b[0m\u001b[0mimage\u001b[0m \u001b[1;33m=\u001b[0m \u001b[0mimg\u001b[0m\u001b[1;33m)\u001b[0m\u001b[1;33m.\u001b[0m\u001b[0mplace\u001b[0m\u001b[1;33m(\u001b[0m\u001b[0mx\u001b[0m \u001b[1;33m=\u001b[0m \u001b[1;36m100\u001b[0m\u001b[1;33m,\u001b[0m \u001b[0my\u001b[0m \u001b[1;33m=\u001b[0m \u001b[1;36m50\u001b[0m\u001b[1;33m)\u001b[0m\u001b[1;33m\u001b[0m\u001b[1;33m\u001b[0m\u001b[0m\n\u001b[1;32m---> 47\u001b[1;33m                     \u001b[0mlbl\u001b[0m\u001b[1;33m.\u001b[0m\u001b[0mpack\u001b[0m\u001b[1;33m(\u001b[0m\u001b[1;33m)\u001b[0m\u001b[1;33m\u001b[0m\u001b[1;33m\u001b[0m\u001b[0m\n\u001b[0m\u001b[0;32m     48\u001b[0m \u001b[1;33m\u001b[0m\u001b[0m\n\u001b[0;32m     49\u001b[0m         \u001b[0mcv2\u001b[0m\u001b[1;33m.\u001b[0m\u001b[0mnamedWindow\u001b[0m\u001b[1;33m(\u001b[0m\u001b[1;34m\"image\"\u001b[0m\u001b[1;33m)\u001b[0m\u001b[1;33m\u001b[0m\u001b[1;33m\u001b[0m\u001b[0m\n",
      "\u001b[1;31mAttributeError\u001b[0m: 'NoneType' object has no attribute 'pack'"
     ]
    },
    {
     "name": "stdout",
     "output_type": "stream",
     "text": [
      "[(41, 56), (118, 89)]\n"
     ]
    },
    {
     "ename": "AttributeError",
     "evalue": "'NoneType' object has no attribute 'pack'",
     "output_type": "error",
     "traceback": [
      "\u001b[1;31m---------------------------------------------------------------------------\u001b[0m",
      "\u001b[1;31mAttributeError\u001b[0m                            Traceback (most recent call last)",
      "\u001b[1;32m<ipython-input-197-fb842252bc83>\u001b[0m in \u001b[0;36mmouse_crop\u001b[1;34m(event, x, y, flags, param)\u001b[0m\n\u001b[0;32m     45\u001b[0m                     \u001b[0mimg\u001b[0m \u001b[1;33m=\u001b[0m \u001b[0mPhotoImage\u001b[0m\u001b[1;33m(\u001b[0m\u001b[0mfile\u001b[0m\u001b[1;33m=\u001b[0m\u001b[1;34m\"C:/Users/jashw/Final-Year-Project/X-Rays/roi.png\"\u001b[0m\u001b[1;33m)\u001b[0m\u001b[1;33m\u001b[0m\u001b[1;33m\u001b[0m\u001b[0m\n\u001b[0;32m     46\u001b[0m                     \u001b[0mlbl\u001b[0m \u001b[1;33m=\u001b[0m \u001b[0mLabel\u001b[0m\u001b[1;33m(\u001b[0m\u001b[0mroot\u001b[0m\u001b[1;33m,\u001b[0m\u001b[0mimage\u001b[0m \u001b[1;33m=\u001b[0m \u001b[0mimg\u001b[0m\u001b[1;33m)\u001b[0m\u001b[1;33m.\u001b[0m\u001b[0mplace\u001b[0m\u001b[1;33m(\u001b[0m\u001b[0mx\u001b[0m \u001b[1;33m=\u001b[0m \u001b[1;36m100\u001b[0m\u001b[1;33m,\u001b[0m \u001b[0my\u001b[0m \u001b[1;33m=\u001b[0m \u001b[1;36m50\u001b[0m\u001b[1;33m)\u001b[0m\u001b[1;33m\u001b[0m\u001b[1;33m\u001b[0m\u001b[0m\n\u001b[1;32m---> 47\u001b[1;33m                     \u001b[0mlbl\u001b[0m\u001b[1;33m.\u001b[0m\u001b[0mpack\u001b[0m\u001b[1;33m(\u001b[0m\u001b[1;33m)\u001b[0m\u001b[1;33m\u001b[0m\u001b[1;33m\u001b[0m\u001b[0m\n\u001b[0m\u001b[0;32m     48\u001b[0m \u001b[1;33m\u001b[0m\u001b[0m\n\u001b[0;32m     49\u001b[0m         \u001b[0mcv2\u001b[0m\u001b[1;33m.\u001b[0m\u001b[0mnamedWindow\u001b[0m\u001b[1;33m(\u001b[0m\u001b[1;34m\"image\"\u001b[0m\u001b[1;33m)\u001b[0m\u001b[1;33m\u001b[0m\u001b[1;33m\u001b[0m\u001b[0m\n",
      "\u001b[1;31mAttributeError\u001b[0m: 'NoneType' object has no attribute 'pack'"
     ]
    },
    {
     "name": "stdout",
     "output_type": "stream",
     "text": [
      "C:/Users/jashw/Final-Year-Project/X-Rays/111_120.bmp\n",
      "[(47, 12), (109, 91)]\n"
     ]
    },
    {
     "ename": "AttributeError",
     "evalue": "'NoneType' object has no attribute 'pack'",
     "output_type": "error",
     "traceback": [
      "\u001b[1;31m---------------------------------------------------------------------------\u001b[0m",
      "\u001b[1;31mAttributeError\u001b[0m                            Traceback (most recent call last)",
      "\u001b[1;32m<ipython-input-197-fb842252bc83>\u001b[0m in \u001b[0;36mmouse_crop\u001b[1;34m(event, x, y, flags, param)\u001b[0m\n\u001b[0;32m     45\u001b[0m                     \u001b[0mimg\u001b[0m \u001b[1;33m=\u001b[0m \u001b[0mPhotoImage\u001b[0m\u001b[1;33m(\u001b[0m\u001b[0mfile\u001b[0m\u001b[1;33m=\u001b[0m\u001b[1;34m\"C:/Users/jashw/Final-Year-Project/X-Rays/roi.png\"\u001b[0m\u001b[1;33m)\u001b[0m\u001b[1;33m\u001b[0m\u001b[1;33m\u001b[0m\u001b[0m\n\u001b[0;32m     46\u001b[0m                     \u001b[0mlbl\u001b[0m \u001b[1;33m=\u001b[0m \u001b[0mLabel\u001b[0m\u001b[1;33m(\u001b[0m\u001b[0mroot\u001b[0m\u001b[1;33m,\u001b[0m\u001b[0mimage\u001b[0m \u001b[1;33m=\u001b[0m \u001b[0mimg\u001b[0m\u001b[1;33m)\u001b[0m\u001b[1;33m.\u001b[0m\u001b[0mplace\u001b[0m\u001b[1;33m(\u001b[0m\u001b[0mx\u001b[0m \u001b[1;33m=\u001b[0m \u001b[1;36m100\u001b[0m\u001b[1;33m,\u001b[0m \u001b[0my\u001b[0m \u001b[1;33m=\u001b[0m \u001b[1;36m50\u001b[0m\u001b[1;33m)\u001b[0m\u001b[1;33m\u001b[0m\u001b[1;33m\u001b[0m\u001b[0m\n\u001b[1;32m---> 47\u001b[1;33m                     \u001b[0mlbl\u001b[0m\u001b[1;33m.\u001b[0m\u001b[0mpack\u001b[0m\u001b[1;33m(\u001b[0m\u001b[1;33m)\u001b[0m\u001b[1;33m\u001b[0m\u001b[1;33m\u001b[0m\u001b[0m\n\u001b[0m\u001b[0;32m     48\u001b[0m \u001b[1;33m\u001b[0m\u001b[0m\n\u001b[0;32m     49\u001b[0m         \u001b[0mcv2\u001b[0m\u001b[1;33m.\u001b[0m\u001b[0mnamedWindow\u001b[0m\u001b[1;33m(\u001b[0m\u001b[1;34m\"image\"\u001b[0m\u001b[1;33m)\u001b[0m\u001b[1;33m\u001b[0m\u001b[1;33m\u001b[0m\u001b[0m\n",
      "\u001b[1;31mAttributeError\u001b[0m: 'NoneType' object has no attribute 'pack'"
     ]
    }
   ],
   "source": [
    "frame = Frame(root)\n",
    "frame.pack(side=BOTTOM, padx=15, pady = 15)\n",
    "\n",
    "lbl = Label(root)\n",
    "lbl.pack()\n",
    "\n",
    "btn = Button(frame,text=\"Browse Image\", command=showimage)\n",
    "btn.pack(side=tk.LEFT)\n",
    "\n",
    "btn2 = Button(frame,text = \"Exit\", command=lambda: exit())\n",
    "btn2.pack(side=tk.LEFT,padx = 10)\n",
    "\n",
    "# btn3 = Button(frame,text = \"Save\")\n",
    "# btn3.pack(side=tk.LEFT,padx = 10)\n",
    "\n",
    "root.title(\"BMD\")\n",
    "root.geometry(\"300x350\")\n",
    "root.mainloop()"
   ]
  },
  {
   "cell_type": "code",
   "execution_count": null,
   "metadata": {},
   "outputs": [],
   "source": []
  }
 ],
 "metadata": {
  "kernelspec": {
   "display_name": "Python 3",
   "language": "python",
   "name": "python3"
  },
  "language_info": {
   "codemirror_mode": {
    "name": "ipython",
    "version": 3
   },
   "file_extension": ".py",
   "mimetype": "text/x-python",
   "name": "python",
   "nbconvert_exporter": "python",
   "pygments_lexer": "ipython3",
   "version": "3.9.0"
  }
 },
 "nbformat": 4,
 "nbformat_minor": 2
}
