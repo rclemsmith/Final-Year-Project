{
 "cells": [
  {
   "cell_type": "code",
   "execution_count": 5,
   "metadata": {},
   "outputs": [],
   "source": [
    "# import numpy as np\n",
    "# import cv2\n",
    "# from matplotlib import pyplot as plt\n",
    "\n",
    "# img = cv2.imread('X-Rays/image.png')\n",
    "# gray = cv2.cvtColor(img,cv2.COLOR_BGR2GRAY)\n",
    "# ret, thresh = cv2.threshold(gray,0,255,cv2.THRESH_BINARY_INV+cv2.THRESH_OTSU)\n",
    "\n",
    "# # noise removal\n",
    "# kernel = np.ones((3,3),np.uint8)\n",
    "# opening = cv2.morphologyEx(thresh,cv2.MORPH_OPEN,kernel, iterations = 2)\n",
    "\n",
    "# # sure background area\n",
    "# sure_bg = cv2.dilate(opening,kernel,iterations=3)\n",
    "\n",
    "# # Finding sure foreground area\n",
    "# dist_transform = cv2.distanceTransform(opening,cv2.DIST_L2,5)\n",
    "# ret, sure_fg = cv2.threshold(dist_transform,0.7*dist_transform.max(),255,0)\n",
    "\n",
    "# # Finding unknown region\n",
    "# sure_fg = np.uint8(sure_fg)\n",
    "# unknown = cv2.subtract(sure_bg,sure_fg)\n",
    "\n",
    "# # Marker labelling\n",
    "# ret, markers = cv2.connectedComponents(sure_fg)\n",
    "\n",
    "# # Add one to all labels so that sure background is not 0, but 1\n",
    "# markers = markers+1\n",
    "\n",
    "# # Now, mark the region of unknown with zero\n",
    "# markers[unknown==255] = 0\n",
    "\n",
    "# markers = cv2.watershed(img,markers)\n",
    "# img[markers == -1] = [255,0,0]\n",
    "\n",
    "# plt.imshow(img)"
   ]
  },
  {
   "cell_type": "code",
   "execution_count": null,
   "metadata": {},
   "outputs": [],
   "source": []
  },
  {
   "cell_type": "code",
   "execution_count": 6,
   "metadata": {},
   "outputs": [],
   "source": [
    "# import numpy as np\n",
    "# import cv2\n",
    "# from matplotlib import pyplot as plt\n",
    "\n",
    "# img = cv2.imread('X-Rays/image.png')\n",
    "# b,g,r = cv2.split(img)\n",
    "# rgb_img = cv2.merge([r,g,b])\n",
    "\n",
    "# gray = cv2.cvtColor(img,cv2.COLOR_BGR2GRAY)\n",
    "# ret, thresh = cv2.threshold(gray,0,255,cv2.THRESH_BINARY_INV+cv2.THRESH_OTSU)\n",
    "\n",
    "# # noise removal\n",
    "# kernel = np.ones((2,2),np.uint8)\n",
    "# #opening = cv2.morphologyEx(thresh,cv2.MORPH_OPEN,kernel, iterations = 2)\n",
    "# closing = cv2.morphologyEx(thresh,cv2.MORPH_CLOSE,kernel, iterations = 2)\n",
    "\n",
    "# # sure background area\n",
    "# sure_bg = cv2.dilate(closing,kernel,iterations=3)\n",
    "\n",
    "# plt.subplot(221),plt.imshow(rgb_img)\n",
    "# plt.title('Input Image'), plt.xticks([]), plt.yticks([])\n",
    "# plt.subplot(222),plt.imshow(thresh, 'gray')\n",
    "# plt.title(\"Otus's binary threshold\"), plt.xticks([]), plt.yticks([])\n",
    "# plt.subplot(223),plt.imshow(closing, 'gray')\n",
    "# plt.title(\"morphologyEx:Closing:2x2\"), plt.xticks([]), plt.yticks([])\n",
    "# plt.subplot(224),plt.imshow(sure_bg, 'gray')\n",
    "# plt.title(\"Dilation\"), plt.xticks([]), plt.yticks([])\n",
    "# plt.show()"
   ]
  },
  {
   "cell_type": "code",
   "execution_count": null,
   "metadata": {},
   "outputs": [],
   "source": []
  },
  {
   "cell_type": "code",
   "execution_count": 7,
   "metadata": {},
   "outputs": [],
   "source": [
    "# import numpy as np\n",
    "# from Watershed import Watershed\n",
    "# import PIL\n",
    "# import matplotlib.pyplot as plt\n",
    "\n",
    "# w = Watershed()\n",
    "# image = np.array(Image.open('X-Rays/image.png'))\n",
    "# labels = w.apply(image)\n",
    "# plt.imshow(labels, cmap='Paired', interpolation='nearest')\n",
    "# plt.show()"
   ]
  },
  {
   "cell_type": "code",
   "execution_count": null,
   "metadata": {},
   "outputs": [],
   "source": []
  },
  {
   "cell_type": "code",
   "execution_count": 8,
   "metadata": {
    "scrolled": true
   },
   "outputs": [],
   "source": [
    "# from Watershed import *\n",
    "# shed = Watershed(\n",
    "#            data_image = \"X-Rays/image.png\",\n",
    "#            binary_or_gray_or_color = \"color\",\n",
    "#            size_for_calculations = 128,\n",
    "#            sigma = 1,\n",
    "#            gradient_threshold_as_fraction = 0.1,\n",
    "#            level_decimation_factor = 16,\n",
    "#            padding = 20,\n",
    "#        )\n",
    "# shed.extract_data_pixels()\n",
    "# shed.display_data_image()\n",
    "# shed.mark_image_regions_for_gradient_mods()                     #(A)\n",
    "# shed.compute_gradient_image()\n",
    "# shed.modify_gradients_with_marker_minima()                      #(B)\n",
    "# shed.compute_Z_level_sets_for_gradient_image()\n",
    "# shed.propagate_influence_zones_from_bottom_to_top_of_Z_levels()\n",
    "# shed.display_watershed()\n",
    "# shed.display_watershed_in_color()\n",
    "# shed.extract_watershed_contours_seperated()\n",
    "# shed.display_watershed_contours_in_color()"
   ]
  },
  {
   "cell_type": "code",
   "execution_count": null,
   "metadata": {},
   "outputs": [],
   "source": []
  },
  {
   "cell_type": "code",
   "execution_count": 9,
   "metadata": {},
   "outputs": [],
   "source": [
    "# import numpy as np \n",
    "# import cv2 \n",
    "# from matplotlib import pyplot as plt \n",
    "  \n",
    "# # Image operation using thresholding \n",
    "# img = cv2.imread('X-Rays/image.png') \n",
    "  \n",
    "# gray = cv2.cvtColor(img, cv2.COLOR_BGR2GRAY) \n",
    "  \n",
    "# ret, thresh = cv2.threshold(gray, 0, 255, \n",
    "#                             cv2.THRESH_BINARY_INV +\n",
    "#                             cv2.THRESH_OTSU) \n",
    "# cv2.imshow('image', thresh) "
   ]
  },
  {
   "cell_type": "code",
   "execution_count": null,
   "metadata": {},
   "outputs": [],
   "source": []
  },
  {
   "cell_type": "code",
   "execution_count": 8,
   "metadata": {},
   "outputs": [
    {
     "data": {
      "image/png": "[encoded data removed]",
      "text/plain": [
       "<Figure size 432x288 with 1 Axes>"
      ]
     },
     "metadata": {
      "needs_background": "light"
     },
     "output_type": "display_data"
    }
   ],
   "source": [
    "# Global Thresholding Method\n",
    "\n",
    "import cv2\n",
    "import numpy as np\n",
    "from matplotlib import pyplot as plt\n",
    "\n",
    "img = cv2.imread('X-Rays/U_2020_12_11_16_34_37.bmp',0)\n",
    "\n",
    "# global thresholding\n",
    "ret1,th1 = cv2.threshold(img,127,255,cv2.THRESH_BINARY)\n",
    "\n",
    "# Otsu's thresholding\n",
    "ret2,th2 = cv2.threshold(img,0,255,cv2.THRESH_BINARY+cv2.THRESH_OTSU)\n",
    "\n",
    "# Otsu's thresholding after Gaussian filtering\n",
    "blur = cv2.GaussianBlur(img,(5,5),0)\n",
    "ret3,th3 = cv2.threshold(blur,0,255,cv2.THRESH_BINARY+cv2.THRESH_OTSU)\n",
    "\n",
    "# plot all the images and their histograms\n",
    "images = [img, 0, th1,\n",
    "          img, 0, th2,\n",
    "          blur, 0, th3]\n",
    "titles = ['Original Noisy Image','Histogram','Global Thresholding (v=127)',\n",
    "          'Original Noisy Image','Histogram',\"Otsu's Thresholding\",\n",
    "          'Gaussian filtered Image','Histogram',\"Otsu's Thresholding\"]\n",
    "\n",
    "for i in range(3):\n",
    "#     plt.subplot(3,3,i*3+1),plt.imshow(images[i*3],'gray')\n",
    "#     plt.title(titles[i*3]), plt.xticks([]), plt.yticks([])\n",
    "#     plt.subplot(3,3,i*3+2),plt.hist(images[i*3].ravel(),256)\n",
    "#     plt.title(titles[i*3+1]), plt.xticks([]), plt.yticks([])\n",
    "    plt.imshow(images[i*3+2],'gray')\n",
    "#     plt.title(titles[i*3+2]), plt.xticks([]), plt.yticks([])\n",
    "#     plt.savefig(\"Processed/thresh.png\",bbox_inches='tight')\n",
    "    cv2.imwrite(\"Processed/thresh.png\", images[i*3+2])\n",
    "    break\n",
    "plt.show()"
   ]
  },
  {
   "cell_type": "code",
   "execution_count": null,
   "metadata": {},
   "outputs": [],
   "source": []
  }
 ],
 "metadata": {
  "kernelspec": {
   "display_name": "Python 3",
   "language": "python",
   "name": "python3"
  },
  "language_info": {
   "codemirror_mode": {
    "name": "ipython",
    "version": 3
   },
   "file_extension": ".py",
   "mimetype": "text/x-python",
   "name": "python",
   "nbconvert_exporter": "python",
   "pygments_lexer": "ipython3",
   "version": "3.8.5"
  }
 },
 "nbformat": 4,
 "nbformat_minor": 4
}
